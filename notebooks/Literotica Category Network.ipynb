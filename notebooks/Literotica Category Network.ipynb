{
 "cells": [
  {
   "cell_type": "markdown",
   "metadata": {},
   "source": [
    "## Category network\n",
    "Create a network visualization where nodes are categories and links exist between two nodes if one or more authors posted stories to both categories. Uses d3 to draw the network (I wanted to experiment using d3 in a notebook).  \n",
    "\n",
    "First, we count up the pairs and look at which category pairs show up the most in the data. Then we load d3 and use a force network to visualize the connections between categories. "
   ]
  },
  {
   "cell_type": "code",
   "execution_count": 25,
   "metadata": {
    "collapsed": false
   },
   "outputs": [
    {
     "name": "stderr",
     "output_type": "stream",
     "text": [
      "/Users/morgane/anaconda3/lib/python3.5/site-packages/IPython/core/interactiveshell.py:2717: DtypeWarning: Columns (1) have mixed types. Specify dtype option on import or set low_memory=False.\n",
      "  interactivity=interactivity, compiler=compiler, result=result)\n"
     ]
    },
    {
     "name": "stdout",
     "output_type": "stream",
     "text": [
      "810 pairs of cross-category activity\n"
     ]
    }
   ],
   "source": [
    "import pandas as pd\n",
    "import itertools\n",
    "from collections import defaultdict\n",
    "\n",
    "# Load in data\n",
    "df = pd.read_csv('../data/literotica_urls.tsv', sep='\\t')\n",
    "\n",
    "# Count up the category pairs\n",
    "pair_counts = defaultdict(int)\n",
    "for author, group in df.groupby('author'):\n",
    "    pairs = itertools.combinations(list(set(list(group.category))), 2)\n",
    "    for pair in pairs:\n",
    "        pair_counts[pair] += 1\n",
    "\n",
    "print(len(pair_counts), 'pairs of cross-category activity')"
   ]
  },
  {
   "cell_type": "code",
   "execution_count": 26,
   "metadata": {
    "collapsed": false
   },
   "outputs": [
    {
     "name": "stdout",
     "output_type": "stream",
     "text": [
      "group-sex-stories --- erotic-couplings \t 322\n",
      "first-time-sex-stories --- erotic-couplings \t 253\n",
      "mature-sex --- erotic-couplings \t 207\n",
      "non-human-stories --- science-fiction-fantasy \t 204\n",
      "non-consent-stories --- group-sex-stories \t 194\n",
      "mature-sex --- first-time-sex-stories \t 185\n",
      "non-consent-stories --- erotic-couplings \t 184\n",
      "exhibitionist-voyeur --- erotic-couplings \t 180\n",
      "non-consent-stories --- bdsm-stories \t 179\n",
      "non-consent-stories --- exhibitionist-voyeur \t 179\n",
      "first-time-sex-stories --- taboo-sex-stories \t 177\n",
      "non-consent-stories --- first-time-sex-stories \t 176\n",
      "anal-sex-stories --- erotic-couplings \t 173\n",
      "science-fiction-fantasy --- erotic-horror \t 171\n",
      "mature-sex --- taboo-sex-stories \t 169\n",
      "masturbation-stories --- erotic-couplings \t 168\n",
      "anal-sex-stories --- first-time-sex-stories \t 165\n",
      "masturbation-stories --- exhibitionist-voyeur \t 162\n",
      "non-human-stories --- erotic-horror \t 160\n",
      "fetish-stories --- bdsm-stories \t 159\n",
      "adult-romance --- erotic-couplings \t 158\n",
      "non-consent-stories --- anal-sex-stories \t 157\n",
      "non-erotic-stories --- adult-humor \t 153\n",
      "anal-sex-stories --- exhibitionist-voyeur \t 153\n",
      "lesbian-sex-stories --- erotic-couplings \t 151\n",
      "non-consent-stories --- mature-sex \t 150\n",
      "interracial-erotic-stories --- mature-sex \t 148\n",
      "masturbation-stories --- group-sex-stories \t 147\n",
      "lesbian-sex-stories --- exhibitionist-voyeur \t 147\n",
      "fetish-stories --- erotic-couplings \t 146\n",
      "anal-sex-stories --- mature-sex \t 146\n",
      "non-consent-stories --- loving-wives \t 144\n",
      "fetish-stories --- exhibitionist-voyeur \t 142\n",
      "fetish-stories --- group-sex-stories \t 142\n",
      "bdsm-stories --- erotic-couplings \t 141\n",
      "anal-sex-stories --- bdsm-stories \t 140\n",
      "masturbation-stories --- anal-sex-stories \t 137\n",
      "interracial-erotic-stories --- group-sex-stories \t 136\n",
      "adult-humor --- erotic-couplings \t 136\n",
      "science-fiction-fantasy --- erotic-couplings \t 136\n"
     ]
    }
   ],
   "source": [
    "# Print out top 40 categories\n",
    "sorted_pair_counts = sorted(pair_counts.items(), key=lambda d: d[1], reverse=True)\n",
    "for pair, count in sorted_pair_counts[:40]:\n",
    "    print(pair[0], '---', pair[1], '\\t', count)"
   ]
  },
  {
   "cell_type": "code",
   "execution_count": 33,
   "metadata": {
    "collapsed": false
   },
   "outputs": [],
   "source": [
    "# Create nodes and edges to use in d3 plot below\n",
    "edges = []\n",
    "node_set = set()\n",
    "\n",
    "for pair, count in sorted_pair_counts:\n",
    "    node_set.add(pair[0])\n",
    "    node_set.add(pair[1])\n",
    "    edges.append({ 'source': pair[0], 'target': pair[1], 'count': count })\n",
    "\n",
    "nodes = [{'category': node } for node in node_set]\n",
    "\n",
    "network = {\n",
    "    'nodes': nodes,\n",
    "    'edges': edges,\n",
    "}\n",
    "\n",
    "# Save to json so we can use in d3\n",
    "import json\n",
    "\n",
    "network = json.dumps(network)"
   ]
  },
  {
   "cell_type": "code",
   "execution_count": 34,
   "metadata": {
    "collapsed": false
   },
   "outputs": [
    {
     "data": {
      "application/javascript": [
       "window.network={\"edges\": [{\"target\": \"erotic-couplings\", \"count\": 322, \"source\": \"group-sex-stories\"}, {\"target\": \"erotic-couplings\", \"count\": 253, \"source\": \"first-time-sex-stories\"}, {\"target\": \"erotic-couplings\", \"count\": 207, \"source\": \"mature-sex\"}, {\"target\": \"science-fiction-fantasy\", \"count\": 204, \"source\": \"non-human-stories\"}, {\"target\": \"group-sex-stories\", \"count\": 194, \"source\": \"non-consent-stories\"}, {\"target\": \"first-time-sex-stories\", \"count\": 185, \"source\": \"mature-sex\"}, {\"target\": \"erotic-couplings\", \"count\": 184, \"source\": \"non-consent-stories\"}, {\"target\": \"erotic-couplings\", \"count\": 180, \"source\": \"exhibitionist-voyeur\"}, {\"target\": \"bdsm-stories\", \"count\": 179, \"source\": \"non-consent-stories\"}, {\"target\": \"exhibitionist-voyeur\", \"count\": 179, \"source\": \"non-consent-stories\"}, {\"target\": \"taboo-sex-stories\", \"count\": 177, \"source\": \"first-time-sex-stories\"}, {\"target\": \"first-time-sex-stories\", \"count\": 176, \"source\": \"non-consent-stories\"}, {\"target\": \"erotic-couplings\", \"count\": 173, \"source\": \"anal-sex-stories\"}, {\"target\": \"erotic-horror\", \"count\": 171, \"source\": \"science-fiction-fantasy\"}, {\"target\": \"taboo-sex-stories\", \"count\": 169, \"source\": \"mature-sex\"}, {\"target\": \"erotic-couplings\", \"count\": 168, \"source\": \"masturbation-stories\"}, {\"target\": \"first-time-sex-stories\", \"count\": 165, \"source\": \"anal-sex-stories\"}, {\"target\": \"exhibitionist-voyeur\", \"count\": 162, \"source\": \"masturbation-stories\"}, {\"target\": \"erotic-horror\", \"count\": 160, \"source\": \"non-human-stories\"}, {\"target\": \"bdsm-stories\", \"count\": 159, \"source\": \"fetish-stories\"}, {\"target\": \"erotic-couplings\", \"count\": 158, \"source\": \"adult-romance\"}, {\"target\": \"anal-sex-stories\", \"count\": 157, \"source\": \"non-consent-stories\"}, {\"target\": \"adult-humor\", \"count\": 153, \"source\": \"non-erotic-stories\"}, {\"target\": \"exhibitionist-voyeur\", \"count\": 153, \"source\": \"anal-sex-stories\"}, {\"target\": \"erotic-couplings\", \"count\": 151, \"source\": \"lesbian-sex-stories\"}, {\"target\": \"mature-sex\", \"count\": 150, \"source\": \"non-consent-stories\"}, {\"target\": \"mature-sex\", \"count\": 148, \"source\": \"interracial-erotic-stories\"}, {\"target\": \"group-sex-stories\", \"count\": 147, \"source\": \"masturbation-stories\"}, {\"target\": \"exhibitionist-voyeur\", \"count\": 147, \"source\": \"lesbian-sex-stories\"}, {\"target\": \"erotic-couplings\", \"count\": 146, \"source\": \"fetish-stories\"}, {\"target\": \"mature-sex\", \"count\": 146, \"source\": \"anal-sex-stories\"}, {\"target\": \"loving-wives\", \"count\": 144, \"source\": \"non-consent-stories\"}, {\"target\": \"exhibitionist-voyeur\", \"count\": 142, \"source\": \"fetish-stories\"}, {\"target\": \"group-sex-stories\", \"count\": 142, \"source\": \"fetish-stories\"}, {\"target\": \"erotic-couplings\", \"count\": 141, \"source\": \"bdsm-stories\"}, {\"target\": \"bdsm-stories\", \"count\": 140, \"source\": \"anal-sex-stories\"}, {\"target\": \"anal-sex-stories\", \"count\": 137, \"source\": \"masturbation-stories\"}, {\"target\": \"group-sex-stories\", \"count\": 136, \"source\": \"interracial-erotic-stories\"}, {\"target\": \"erotic-couplings\", \"count\": 136, \"source\": \"adult-humor\"}, {\"target\": \"erotic-couplings\", \"count\": 136, \"source\": \"science-fiction-fantasy\"}, {\"target\": \"first-time-sex-stories\", \"count\": 136, \"source\": \"lesbian-sex-stories\"}, {\"target\": \"science-fiction-fantasy\", \"count\": 135, \"source\": \"non-consent-stories\"}, {\"target\": \"adult-humor\", \"count\": 134, \"source\": \"first-time-sex-stories\"}, {\"target\": \"first-time-sex-stories\", \"count\": 134, \"source\": \"masturbation-stories\"}, {\"target\": \"taboo-sex-stories\", \"count\": 132, \"source\": \"lesbian-sex-stories\"}, {\"target\": \"taboo-sex-stories\", \"count\": 131, \"source\": \"non-consent-stories\"}, {\"target\": \"adult-romance\", \"count\": 130, \"source\": \"non-consent-stories\"}, {\"target\": \"first-time-sex-stories\", \"count\": 129, \"source\": \"non-erotic-stories\"}, {\"target\": \"taboo-sex-stories\", \"count\": 126, \"source\": \"fetish-stories\"}, {\"target\": \"loving-wives\", \"count\": 126, \"source\": \"exhibitionist-voyeur\"}, {\"target\": \"loving-wives\", \"count\": 125, \"source\": \"first-time-sex-stories\"}, {\"target\": \"first-time-sex-stories\", \"count\": 124, \"source\": \"fetish-stories\"}, {\"target\": \"erotic-couplings\", \"count\": 124, \"source\": \"loving-wives\"}, {\"target\": \"erotic-couplings\", \"count\": 122, \"source\": \"non-erotic-stories\"}, {\"target\": \"group-sex-stories\", \"count\": 122, \"source\": \"first-time-sex-stories\"}, {\"target\": \"mature-sex\", \"count\": 121, \"source\": \"fetish-stories\"}, {\"target\": \"loving-wives\", \"count\": 121, \"source\": \"mature-sex\"}, {\"target\": \"interracial-erotic-stories\", \"count\": 121, \"source\": \"non-consent-stories\"}, {\"target\": \"transsexuals-crossdressers\", \"count\": 121, \"source\": \"fetish-stories\"}, {\"target\": \"gay-sex-stories\", \"count\": 120, \"source\": \"transsexuals-crossdressers\"}, {\"target\": \"erotic-horror\", \"count\": 118, \"source\": \"first-time-sex-stories\"}, {\"target\": \"erotic-couplings\", \"count\": 117, \"source\": \"interracial-erotic-stories\"}, {\"target\": \"adult-humor\", \"count\": 117, \"source\": \"mature-sex\"}, {\"target\": \"loving-wives\", \"count\": 116, \"source\": \"interracial-erotic-stories\"}, {\"target\": \"masturbation-stories\", \"count\": 116, \"source\": \"non-consent-stories\"}, {\"target\": \"group-sex-stories\", \"count\": 116, \"source\": \"lesbian-sex-stories\"}, {\"target\": \"group-sex-stories\", \"count\": 115, \"source\": \"exhibitionist-voyeur\"}, {\"target\": \"group-sex-stories\", \"count\": 113, \"source\": \"loving-wives\"}, {\"target\": \"exhibitionist-voyeur\", \"count\": 112, \"source\": \"adult-romance\"}, {\"target\": \"adult-humor\", \"count\": 111, \"source\": \"masturbation-stories\"}, {\"target\": \"adult-humor\", \"count\": 111, \"source\": \"science-fiction-fantasy\"}, {\"target\": \"adult-romance\", \"count\": 110, \"source\": \"non-human-stories\"}, {\"target\": \"erotic-horror\", \"count\": 110, \"source\": \"non-consent-stories\"}, {\"target\": \"erotic-horror\", \"count\": 109, \"source\": \"non-erotic-stories\"}, {\"target\": \"group-sex-stories\", \"count\": 109, \"source\": \"anal-sex-stories\"}, {\"target\": \"taboo-sex-stories\", \"count\": 109, \"source\": \"science-fiction-fantasy\"}, {\"target\": \"adult-humor\", \"count\": 108, \"source\": \"non-consent-stories\"}, {\"target\": \"exhibitionist-voyeur\", \"count\": 107, \"source\": \"group-sex-stories\"}, {\"target\": \"first-time-sex-stories\", \"count\": 107, \"source\": \"group-sex-stories\"}, {\"target\": \"loving-wives\", \"count\": 107, \"source\": \"fetish-stories\"}, {\"target\": \"erotic-horror\", \"count\": 107, \"source\": \"adult-romance\"}, {\"target\": \"anal-sex-stories\", \"count\": 106, \"source\": \"lesbian-sex-stories\"}, {\"target\": \"erotic-couplings\", \"count\": 105, \"source\": \"taboo-sex-stories\"}, {\"target\": \"bdsm-stories\", \"count\": 104, \"source\": \"first-time-sex-stories\"}, {\"target\": \"exhibitionist-voyeur\", \"count\": 104, \"source\": \"first-time-sex-stories\"}, {\"target\": \"masturbation-stories\", \"count\": 104, \"source\": \"non-human-stories\"}, {\"target\": \"erotic-couplings\", \"count\": 104, \"source\": \"non-human-stories\"}, {\"target\": \"first-time-sex-stories\", \"count\": 104, \"source\": \"interracial-erotic-stories\"}, {\"target\": \"bdsm-stories\", \"count\": 104, \"source\": \"mind-control\"}, {\"target\": \"adult-humor\", \"count\": 104, \"source\": \"anal-sex-stories\"}, {\"target\": \"taboo-sex-stories\", \"count\": 103, \"source\": \"group-sex-stories\"}, {\"target\": \"group-sex-stories\", \"count\": 102, \"source\": \"gay-sex-stories\"}, {\"target\": \"loving-wives\", \"count\": 102, \"source\": \"non-erotic-stories\"}, {\"target\": \"fetish-stories\", \"count\": 101, \"source\": \"anal-sex-stories\"}, {\"target\": \"loving-wives\", \"count\": 100, \"source\": \"adult-romance\"}, {\"target\": \"taboo-sex-stories\", \"count\": 100, \"source\": \"exhibitionist-voyeur\"}, {\"target\": \"taboo-sex-stories\", \"count\": 100, \"source\": \"adult-romance\"}, {\"target\": \"mature-sex\", \"count\": 100, \"source\": \"non-erotic-stories\"}, {\"target\": \"taboo-sex-stories\", \"count\": 99, \"source\": \"anal-sex-stories\"}, {\"target\": \"adult-humor\", \"count\": 99, \"source\": \"fetish-stories\"}, {\"target\": \"reviews-and-essays\", \"count\": 99, \"source\": \"non-erotic-stories\"}, {\"target\": \"mature-sex\", \"count\": 99, \"source\": \"group-sex-stories\"}, {\"target\": \"bdsm-stories\", \"count\": 98, \"source\": \"lesbian-sex-stories\"}, {\"target\": \"mature-sex\", \"count\": 97, \"source\": \"masturbation-stories\"}, {\"target\": \"erotic-horror\", \"count\": 97, \"source\": \"mind-control\"}, {\"target\": \"adult-humor\", \"count\": 97, \"source\": \"non-human-stories\"}, {\"target\": \"gay-sex-stories\", \"count\": 96, \"source\": \"fetish-stories\"}, {\"target\": \"erotic-couplings\", \"count\": 95, \"source\": \"mind-control\"}, {\"target\": \"interracial-erotic-stories\", \"count\": 95, \"source\": \"fetish-stories\"}, {\"target\": \"adult-romance\", \"count\": 95, \"source\": \"non-erotic-stories\"}, {\"target\": \"anal-sex-stories\", \"count\": 95, \"source\": \"group-sex-stories\"}, {\"target\": \"erotic-letters\", \"count\": 95, \"source\": \"masturbation-stories\"}, {\"target\": \"erotic-horror\", \"count\": 95, \"source\": \"exhibitionist-voyeur\"}, {\"target\": \"adult-humor\", \"count\": 94, \"source\": \"mind-control\"}, {\"target\": \"adult-humor\", \"count\": 94, \"source\": \"reviews-and-essays\"}, {\"target\": \"exhibitionist-voyeur\", \"count\": 94, \"source\": \"science-fiction-fantasy\"}, {\"target\": \"adult-romance\", \"count\": 94, \"source\": \"mature-sex\"}, {\"target\": \"masturbation-stories\", \"count\": 94, \"source\": \"lesbian-sex-stories\"}, {\"target\": \"taboo-sex-stories\", \"count\": 93, \"source\": \"loving-wives\"}, {\"target\": \"erotic-horror\", \"count\": 93, \"source\": \"anal-sex-stories\"}, {\"target\": \"loving-wives\", \"count\": 93, \"source\": \"anal-sex-stories\"}, {\"target\": \"adult-romance\", \"count\": 93, \"source\": \"lesbian-sex-stories\"}, {\"target\": \"mind-control\", \"count\": 93, \"source\": \"non-human-stories\"}, {\"target\": \"non-erotic-stories\", \"count\": 92, \"source\": \"non-human-stories\"}, {\"target\": \"erotic-couplings\", \"count\": 92, \"source\": \"erotic-letters\"}, {\"target\": \"erotic-couplings\", \"count\": 92, \"source\": \"erotic-horror\"}, {\"target\": \"non-erotic-stories\", \"count\": 92, \"source\": \"science-fiction-fantasy\"}, {\"target\": \"erotic-horror\", \"count\": 91, \"source\": \"adult-humor\"}, {\"target\": \"taboo-sex-stories\", \"count\": 91, \"source\": \"interracial-erotic-stories\"}, {\"target\": \"non-erotic-stories\", \"count\": 91, \"source\": \"non-consent-stories\"}, {\"target\": \"group-sex-stories\", \"count\": 90, \"source\": \"mature-sex\"}, {\"target\": \"bdsm-stories\", \"count\": 90, \"source\": \"science-fiction-fantasy\"}, {\"target\": \"mature-sex\", \"count\": 90, \"source\": \"lesbian-sex-stories\"}, {\"target\": \"bdsm-stories\", \"count\": 90, \"source\": \"masturbation-stories\"}, {\"target\": \"exhibitionist-voyeur\", \"count\": 90, \"source\": \"mind-control\"}, {\"target\": \"adult-romance\", \"count\": 90, \"source\": \"science-fiction-fantasy\"}, {\"target\": \"erotic-novels\", \"count\": 90, \"source\": \"non-erotic-stories\"}, {\"target\": \"adult-romance\", \"count\": 89, \"source\": \"first-time-sex-stories\"}, {\"target\": \"loving-wives\", \"count\": 89, \"source\": \"group-sex-stories\"}, {\"target\": \"mature-sex\", \"count\": 89, \"source\": \"mind-control\"}, {\"target\": \"fetish-stories\", \"count\": 89, \"source\": \"non-consent-stories\"}, {\"target\": \"mind-control\", \"count\": 89, \"source\": \"science-fiction-fantasy\"}, {\"target\": \"transsexuals-crossdressers\", \"count\": 88, \"source\": \"science-fiction-fantasy\"}, {\"target\": \"first-time-sex-stories\", \"count\": 88, \"source\": \"non-human-stories\"}, {\"target\": \"group-sex-stories\", \"count\": 87, \"source\": \"mind-control\"}, {\"target\": \"taboo-sex-stories\", \"count\": 87, \"source\": \"gay-sex-stories\"}, {\"target\": \"exhibitionist-voyeur\", \"count\": 86, \"source\": \"adult-humor\"}, {\"target\": \"group-sex-stories\", \"count\": 86, \"source\": \"non-erotic-stories\"}, {\"target\": \"exhibitionist-voyeur\", \"count\": 86, \"source\": \"non-erotic-stories\"}, {\"target\": \"loving-wives\", \"count\": 86, \"source\": \"masturbation-stories\"}, {\"target\": \"masturbation-stories\", \"count\": 86, \"source\": \"fetish-stories\"}, {\"target\": \"first-time-sex-stories\", \"count\": 86, \"source\": \"science-fiction-fantasy\"}, {\"target\": \"bdsm-stories\", \"count\": 86, \"source\": \"non-human-stories\"}, {\"target\": \"group-sex-stories\", \"count\": 86, \"source\": \"taboo-sex-stories\"}, {\"target\": \"adult-humor\", \"count\": 85, \"source\": \"erotic-letters\"}, {\"target\": \"taboo-sex-stories\", \"count\": 84, \"source\": \"mind-control\"}, {\"target\": \"mature-sex\", \"count\": 84, \"source\": \"non-human-stories\"}, {\"target\": \"group-sex-stories\", \"count\": 84, \"source\": \"science-fiction-fantasy\"}, {\"target\": \"exhibitionist-voyeur\", \"count\": 83, \"source\": \"mature-sex\"}, {\"target\": \"fetish-stories\", \"count\": 83, \"source\": \"science-fiction-fantasy\"}, {\"target\": \"bdsm-stories\", \"count\": 83, \"source\": \"mature-sex\"}, {\"target\": \"taboo-sex-stories\", \"count\": 82, \"source\": \"bdsm-stories\"}, {\"target\": \"erotic-novels\", \"count\": 82, \"source\": \"first-time-sex-stories\"}, {\"target\": \"adult-humor\", \"count\": 82, \"source\": \"bdsm-stories\"}, {\"target\": \"adult-romance\", \"count\": 81, \"source\": \"adult-humor\"}, {\"target\": \"first-time-sex-stories\", \"count\": 81, \"source\": \"adult-romance\"}, {\"target\": \"non-erotic-stories\", \"count\": 80, \"source\": \"masturbation-stories\"}, {\"target\": \"loving-wives\", \"count\": 80, \"source\": \"lesbian-sex-stories\"}, {\"target\": \"erotic-horror\", \"count\": 80, \"source\": \"mature-sex\"}, {\"target\": \"taboo-sex-stories\", \"count\": 80, \"source\": \"masturbation-stories\"}, {\"target\": \"erotic-horror\", \"count\": 79, \"source\": \"masturbation-stories\"}, {\"target\": \"non-erotic-stories\", \"count\": 79, \"source\": \"adult-romance\"}, {\"target\": \"reviews-and-essays\", \"count\": 79, \"source\": \"erotic-letters\"}, {\"target\": \"taboo-sex-stories\", \"count\": 78, \"source\": \"non-human-stories\"}, {\"target\": \"fetish-stories\", \"count\": 78, \"source\": \"non-human-stories\"}, {\"target\": \"group-sex-stories\", \"count\": 78, \"source\": \"non-human-stories\"}, {\"target\": \"erotic-horror\", \"count\": 78, \"source\": \"fetish-stories\"}, {\"target\": \"first-time-sex-stories\", \"count\": 77, \"source\": \"exhibitionist-voyeur\"}, {\"target\": \"exhibitionist-voyeur\", \"count\": 77, \"source\": \"non-human-stories\"}, {\"target\": \"reviews-and-essays\", \"count\": 77, \"source\": \"adult-how-to\"}, {\"target\": \"adult-humor\", \"count\": 76, \"source\": \"interracial-erotic-stories\"}, {\"target\": \"erotic-letters\", \"count\": 76, \"source\": \"non-consent-stories\"}, {\"target\": \"bdsm-stories\", \"count\": 76, \"source\": \"exhibitionist-voyeur\"}, {\"target\": \"lesbian-sex-stories\", \"count\": 76, \"source\": \"group-sex-stories\"}, {\"target\": \"bdsm-stories\", \"count\": 76, \"source\": \"non-erotic-stories\"}, {\"target\": \"erotic-novels\", \"count\": 75, \"source\": \"mature-sex\"}, {\"target\": \"reviews-and-essays\", \"count\": 75, \"source\": \"masturbation-stories\"}, {\"target\": \"taboo-sex-stories\", \"count\": 75, \"source\": \"non-erotic-stories\"}, {\"target\": \"adult-humor\", \"count\": 75, \"source\": \"group-sex-stories\"}, {\"target\": \"anal-sex-stories\", \"count\": 75, \"source\": \"non-human-stories\"}, {\"target\": \"first-time-sex-stories\", \"count\": 75, \"source\": \"mind-control\"}, {\"target\": \"interracial-erotic-stories\", \"count\": 74, \"source\": \"non-human-stories\"}, {\"target\": \"mind-control\", \"count\": 73, \"source\": \"fetish-stories\"}, {\"target\": \"adult-romance\", \"count\": 73, \"source\": \"fetish-stories\"}, {\"target\": \"lesbian-sex-stories\", \"count\": 73, \"source\": \"masturbation-stories\"}, {\"target\": \"non-consent-stories\", \"count\": 73, \"source\": \"mind-control\"}, {\"target\": \"erotic-horror\", \"count\": 72, \"source\": \"erotic-letters\"}, {\"target\": \"erotic-horror\", \"count\": 72, \"source\": \"lesbian-sex-stories\"}, {\"target\": \"adult-humor\", \"count\": 72, \"source\": \"lesbian-sex-stories\"}, {\"target\": \"adult-humor\", \"count\": 72, \"source\": \"adult-how-to\"}, {\"target\": \"exhibitionist-voyeur\", \"count\": 72, \"source\": \"erotic-letters\"}, {\"target\": \"reviews-and-essays\", \"count\": 72, \"source\": \"fetish-stories\"}, {\"target\": \"erotic-novels\", \"count\": 72, \"source\": \"adult-humor\"}, {\"target\": \"loving-wives\", \"count\": 71, \"source\": \"mind-control\"}, {\"target\": \"erotic-novels\", \"count\": 71, \"source\": \"non-consent-stories\"}, {\"target\": \"masturbation-stories\", \"count\": 71, \"source\": \"mind-control\"}, {\"target\": \"erotic-horror\", \"count\": 71, \"source\": \"adult-how-to\"}, {\"target\": \"mature-sex\", \"count\": 71, \"source\": \"exhibitionist-voyeur\"}, {\"target\": \"loving-wives\", \"count\": 70, \"source\": \"bdsm-stories\"}, {\"target\": \"transsexuals-crossdressers\", \"count\": 70, \"source\": \"non-human-stories\"}, {\"target\": \"bdsm-stories\", \"count\": 70, \"source\": \"group-sex-stories\"}, {\"target\": \"erotic-couplings\", \"count\": 70, \"source\": \"reviews-and-essays\"}, {\"target\": \"interracial-erotic-stories\", \"count\": 70, \"source\": \"mind-control\"}, {\"target\": \"mind-control\", \"count\": 70, \"source\": \"non-consent-stories\"}, {\"target\": \"mature-sex\", \"count\": 70, \"source\": \"science-fiction-fantasy\"}, {\"target\": \"anal-sex-stories\", \"count\": 70, \"source\": \"non-erotic-stories\"}, {\"target\": \"adult-romance\", \"count\": 70, \"source\": \"anal-sex-stories\"}, {\"target\": \"taboo-sex-stories\", \"count\": 69, \"source\": \"transsexuals-crossdressers\"}, {\"target\": \"loving-wives\", \"count\": 68, \"source\": \"adult-humor\"}, {\"target\": \"erotic-horror\", \"count\": 68, \"source\": \"transsexuals-crossdressers\"}, {\"target\": \"group-sex-stories\", \"count\": 68, \"source\": \"erotic-letters\"}, {\"target\": \"reviews-and-essays\", \"count\": 67, \"source\": \"non-human-stories\"}, {\"target\": \"erotic-horror\", \"count\": 67, \"source\": \"reviews-and-essays\"}, {\"target\": \"adult-romance\", \"count\": 66, \"source\": \"group-sex-stories\"}, {\"target\": \"non-consent-stories\", \"count\": 66, \"source\": \"fetish-stories\"}, {\"target\": \"bdsm-stories\", \"count\": 66, \"source\": \"interracial-erotic-stories\"}, {\"target\": \"adult-how-to\", \"count\": 66, \"source\": \"masturbation-stories\"}, {\"target\": \"lesbian-sex-stories\", \"count\": 65, \"source\": \"fetish-stories\"}, {\"target\": \"group-sex-stories\", \"count\": 65, \"source\": \"bdsm-stories\"}, {\"target\": \"erotic-letters\", \"count\": 65, \"source\": \"non-human-stories\"}, {\"target\": \"adult-how-to\", \"count\": 65, \"source\": \"non-consent-stories\"}, {\"target\": \"chain-stories\", \"count\": 65, \"source\": \"non-erotic-stories\"}, {\"target\": \"masturbation-stories\", \"count\": 65, \"source\": \"science-fiction-fantasy\"}, {\"target\": \"interracial-erotic-stories\", \"count\": 64, \"source\": \"science-fiction-fantasy\"}, {\"target\": \"anal-sex-stories\", \"count\": 64, \"source\": \"fetish-stories\"}, {\"target\": \"erotic-couplings\", \"count\": 64, \"source\": \"gay-sex-stories\"}, {\"target\": \"transsexuals-crossdressers\", \"count\": 64, \"source\": \"anal-sex-stories\"}, {\"target\": \"anal-sex-stories\", \"count\": 63, \"source\": \"interracial-erotic-stories\"}, {\"target\": \"taboo-sex-stories\", \"count\": 63, \"source\": \"adult-humor\"}, {\"target\": \"loving-wives\", \"count\": 63, \"source\": \"transsexuals-crossdressers\"}, {\"target\": \"erotic-horror\", \"count\": 62, \"source\": \"interracial-erotic-stories\"}, {\"target\": \"erotic-novels\", \"count\": 62, \"source\": \"science-fiction-fantasy\"}, {\"target\": \"taboo-sex-stories\", \"count\": 62, \"source\": \"erotic-couplings\"}, {\"target\": \"adult-romance\", \"count\": 62, \"source\": \"masturbation-stories\"}, {\"target\": \"non-consent-stories\", \"count\": 62, \"source\": \"non-human-stories\"}, {\"target\": \"taboo-sex-stories\", \"count\": 62, \"source\": \"erotic-horror\"}, {\"target\": \"anal-sex-stories\", \"count\": 61, \"source\": \"mind-control\"}, {\"target\": \"transsexuals-crossdressers\", \"count\": 61, \"source\": \"lesbian-sex-stories\"}, {\"target\": \"adult-how-to\", \"count\": 61, \"source\": \"fetish-stories\"}, {\"target\": \"anal-sex-stories\", \"count\": 61, \"source\": \"science-fiction-fantasy\"}, {\"target\": \"group-sex-stories\", \"count\": 61, \"source\": \"transsexuals-crossdressers\"}, {\"target\": \"non-erotic-stories\", \"count\": 61, \"source\": \"adult-how-to\"}, {\"target\": \"non-erotic-stories\", \"count\": 60, \"source\": \"erotic-letters\"}, {\"target\": \"transsexuals-crossdressers\", \"count\": 60, \"source\": \"mature-sex\"}, {\"target\": \"first-time-sex-stories\", \"count\": 60, \"source\": \"adult-how-to\"}, {\"target\": \"transsexuals-crossdressers\", \"count\": 60, \"source\": \"non-consent-stories\"}, {\"target\": \"adult-romance\", \"count\": 60, \"source\": \"mind-control\"}, {\"target\": \"science-fiction-fantasy\", \"count\": 60, \"source\": \"lesbian-sex-stories\"}, {\"target\": \"non-human-stories\", \"count\": 59, \"source\": \"non-consent-stories\"}, {\"target\": \"lesbian-sex-stories\", \"count\": 59, \"source\": \"non-consent-stories\"}, {\"target\": \"exhibitionist-voyeur\", \"count\": 59, \"source\": \"bdsm-stories\"}, {\"target\": \"non-erotic-stories\", \"count\": 59, \"source\": \"fetish-stories\"}, {\"target\": \"mature-sex\", \"count\": 59, \"source\": \"adult-romance\"}, {\"target\": \"adult-how-to\", \"count\": 59, \"source\": \"non-human-stories\"}, {\"target\": \"erotic-couplings\", \"count\": 59, \"source\": \"transsexuals-crossdressers\"}, {\"target\": \"erotic-novels\", \"count\": 58, \"source\": \"lesbian-sex-stories\"}, {\"target\": \"transsexuals-crossdressers\", \"count\": 58, \"source\": \"mind-control\"}, {\"target\": \"adult-romance\", \"count\": 58, \"source\": \"bdsm-stories\"}, {\"target\": \"loving-wives\", \"count\": 58, \"source\": \"non-human-stories\"}, {\"target\": \"reviews-and-essays\", \"count\": 58, \"source\": \"mind-control\"}, {\"target\": \"science-fiction-fantasy\", \"count\": 58, \"source\": \"first-time-sex-stories\"}, {\"target\": \"lesbian-sex-stories\", \"count\": 58, \"source\": \"non-erotic-stories\"}, {\"target\": \"exhibitionist-voyeur\", \"count\": 58, \"source\": \"adult-how-to\"}, {\"target\": \"erotic-letters\", \"count\": 57, \"source\": \"fetish-stories\"}, {\"target\": \"adult-humor\", \"count\": 57, \"source\": \"gay-sex-stories\"}, {\"target\": \"erotic-novels\", \"count\": 57, \"source\": \"group-sex-stories\"}, {\"target\": \"reviews-and-essays\", \"count\": 57, \"source\": \"non-consent-stories\"}, {\"target\": \"erotic-horror\", \"count\": 57, \"source\": \"group-sex-stories\"}, {\"target\": \"erotic-letters\", \"count\": 57, \"source\": \"mind-control\"}, {\"target\": \"bdsm-stories\", \"count\": 56, \"source\": \"transsexuals-crossdressers\"}, {\"target\": \"masturbation-stories\", \"count\": 56, \"source\": \"adult-romance\"}, {\"target\": \"erotic-novels\", \"count\": 55, \"source\": \"fetish-stories\"}, {\"target\": \"adult-romance\", \"count\": 55, \"source\": \"erotic-novels\"}, {\"target\": \"exhibitionist-voyeur\", \"count\": 55, \"source\": \"interracial-erotic-stories\"}, {\"target\": \"mature-sex\", \"count\": 55, \"source\": \"erotic-letters\"}, {\"target\": \"first-time-sex-stories\", \"count\": 55, \"source\": \"gay-sex-stories\"}, {\"target\": \"first-time-sex-stories\", \"count\": 55, \"source\": \"erotic-letters\"}, {\"target\": \"anal-sex-stories\", \"count\": 55, \"source\": \"gay-sex-stories\"}, {\"target\": \"adult-humor\", \"count\": 54, \"source\": \"adult-romance\"}, {\"target\": \"transsexuals-crossdressers\", \"count\": 54, \"source\": \"interracial-erotic-stories\"}, {\"target\": \"adult-romance\", \"count\": 54, \"source\": \"interracial-erotic-stories\"}, {\"target\": \"loving-wives\", \"count\": 54, \"source\": \"science-fiction-fantasy\"}, {\"target\": \"erotic-novels\", \"count\": 54, \"source\": \"anal-sex-stories\"}, {\"target\": \"bdsm-stories\", \"count\": 54, \"source\": \"reviews-and-essays\"}, {\"target\": \"non-consent-stories\", \"count\": 54, \"source\": \"lesbian-sex-stories\"}, {\"target\": \"adult-humor\", \"count\": 54, \"source\": \"transsexuals-crossdressers\"}, {\"target\": \"lesbian-sex-stories\", \"count\": 53, \"source\": \"interracial-erotic-stories\"}, {\"target\": \"adult-romance\", \"count\": 53, \"source\": \"adult-how-to\"}, {\"target\": \"chain-stories\", \"count\": 53, \"source\": \"science-fiction-fantasy\"}, {\"target\": \"loving-wives\", \"count\": 53, \"source\": \"erotic-letters\"}, {\"target\": \"chain-stories\", \"count\": 53, \"source\": \"adult-how-to\"}, {\"target\": \"group-sex-stories\", \"count\": 53, \"source\": \"adult-romance\"}, {\"target\": \"first-time-sex-stories\", \"count\": 53, \"source\": \"reviews-and-essays\"}, {\"target\": \"taboo-sex-stories\", \"count\": 52, \"source\": \"erotic-letters\"}, {\"target\": \"mature-sex\", \"count\": 52, \"source\": \"adult-how-to\"}, {\"target\": \"science-fiction-fantasy\", \"count\": 52, \"source\": \"mind-control\"}, {\"target\": \"fetish-stories\", \"count\": 51, \"source\": \"lesbian-sex-stories\"}, {\"target\": \"group-sex-stories\", \"count\": 51, \"source\": \"reviews-and-essays\"}, {\"target\": \"exhibitionist-voyeur\", \"count\": 51, \"source\": \"reviews-and-essays\"}, {\"target\": \"adult-humor\", \"count\": 51, \"source\": \"erotic-horror\"}, {\"target\": \"erotic-novels\", \"count\": 51, \"source\": \"bdsm-stories\"}, {\"target\": \"reviews-and-essays\", \"count\": 51, \"source\": \"interracial-erotic-stories\"}, {\"target\": \"science-fiction-fantasy\", \"count\": 50, \"source\": \"masturbation-stories\"}, {\"target\": \"bdsm-stories\", \"count\": 50, \"source\": \"erotic-letters\"}, {\"target\": \"adult-how-to\", \"count\": 50, \"source\": \"mind-control\"}, {\"target\": \"erotic-couplings\", \"count\": 50, \"source\": \"adult-how-to\"}, {\"target\": \"erotic-novels\", \"count\": 50, \"source\": \"adult-romance\"}, {\"target\": \"loving-wives\", \"count\": 50, \"source\": \"erotic-horror\"}, {\"target\": \"science-fiction-fantasy\", \"count\": 50, \"source\": \"adult-romance\"}, {\"target\": \"adult-romance\", \"count\": 50, \"source\": \"erotic-letters\"}, {\"target\": \"interracial-erotic-stories\", \"count\": 49, \"source\": \"masturbation-stories\"}, {\"target\": \"erotic-horror\", \"count\": 49, \"source\": \"chain-stories\"}, {\"target\": \"gay-sex-stories\", \"count\": 49, \"source\": \"anal-sex-stories\"}, {\"target\": \"loving-wives\", \"count\": 49, \"source\": \"reviews-and-essays\"}, {\"target\": \"erotic-novels\", \"count\": 49, \"source\": \"non-human-stories\"}, {\"target\": \"lesbian-sex-stories\", \"count\": 48, \"source\": \"gay-sex-stories\"}, {\"target\": \"masturbation-stories\", \"count\": 48, \"source\": \"transsexuals-crossdressers\"}, {\"target\": \"non-erotic-stories\", \"count\": 48, \"source\": \"mind-control\"}, {\"target\": \"science-fiction-fantasy\", \"count\": 48, \"source\": \"non-erotic-stories\"}, {\"target\": \"lesbian-sex-stories\", \"count\": 48, \"source\": \"non-human-stories\"}, {\"target\": \"erotic-novels\", \"count\": 48, \"source\": \"masturbation-stories\"}, {\"target\": \"chain-stories\", \"count\": 47, \"source\": \"first-time-sex-stories\"}, {\"target\": \"taboo-sex-stories\", \"count\": 47, \"source\": \"reviews-and-essays\"}, {\"target\": \"mature-sex\", \"count\": 47, \"source\": \"gay-sex-stories\"}, {\"target\": \"lesbian-sex-stories\", \"count\": 47, \"source\": \"mind-control\"}, {\"target\": \"erotic-novels\", \"count\": 47, \"source\": \"interracial-erotic-stories\"}, {\"target\": \"erotic-horror\", \"count\": 46, \"source\": \"erotic-novels\"}, {\"target\": \"gay-sex-stories\", \"count\": 46, \"source\": \"non-human-stories\"}, {\"target\": \"reviews-and-essays\", \"count\": 46, \"source\": \"transsexuals-crossdressers\"}, {\"target\": \"masturbation-stories\", \"count\": 46, \"source\": \"gay-sex-stories\"}, {\"target\": \"adult-romance\", \"count\": 46, \"source\": \"reviews-and-essays\"}, {\"target\": \"non-consent-stories\", \"count\": 46, \"source\": \"gay-sex-stories\"}, {\"target\": \"erotic-horror\", \"count\": 46, \"source\": \"bdsm-stories\"}, {\"target\": \"interracial-erotic-stories\", \"count\": 45, \"source\": \"non-erotic-stories\"}, {\"target\": \"lesbian-sex-stories\", \"count\": 45, \"source\": \"erotic-letters\"}, {\"target\": \"anal-sex-stories\", \"count\": 45, \"source\": \"adult-how-to\"}, {\"target\": \"erotic-novels\", \"count\": 45, \"source\": \"erotic-letters\"}, {\"target\": \"chain-stories\", \"count\": 45, \"source\": \"reviews-and-essays\"}, {\"target\": \"transsexuals-crossdressers\", \"count\": 45, \"source\": \"non-erotic-stories\"}, {\"target\": \"reviews-and-essays\", \"count\": 45, \"source\": \"science-fiction-fantasy\"}, {\"target\": \"science-fiction-fantasy\", \"count\": 44, \"source\": \"fetish-stories\"}, {\"target\": \"mature-sex\", \"count\": 44, \"source\": \"reviews-and-essays\"}, {\"target\": \"interracial-erotic-stories\", \"count\": 44, \"source\": \"lesbian-sex-stories\"}, {\"target\": \"erotic-novels\", \"count\": 44, \"source\": \"reviews-and-essays\"}, {\"target\": \"non-erotic-stories\", \"count\": 44, \"source\": \"gay-sex-stories\"}, {\"target\": \"taboo-sex-stories\", \"count\": 44, \"source\": \"adult-how-to\"}, {\"target\": \"exhibitionist-voyeur\", \"count\": 43, \"source\": \"gay-sex-stories\"}, {\"target\": \"science-fiction-fantasy\", \"count\": 43, \"source\": \"adult-humor\"}, {\"target\": \"adult-how-to\", \"count\": 43, \"source\": \"science-fiction-fantasy\"}, {\"target\": \"erotic-letters\", \"count\": 43, \"source\": \"adult-how-to\"}, {\"target\": \"chain-stories\", \"count\": 43, \"source\": \"adult-humor\"}, {\"target\": \"gay-sex-stories\", \"count\": 43, \"source\": \"first-time-sex-stories\"}, {\"target\": \"first-time-sex-stories\", \"count\": 43, \"source\": \"transsexuals-crossdressers\"}, {\"target\": \"erotic-letters\", \"count\": 42, \"source\": \"anal-sex-stories\"}, {\"target\": \"lesbian-sex-stories\", \"count\": 42, \"source\": \"adult-how-to\"}, {\"target\": \"group-sex-stories\", \"count\": 42, \"source\": \"adult-how-to\"}, {\"target\": \"erotic-letters\", \"count\": 42, \"source\": \"science-fiction-fantasy\"}, {\"target\": \"lesbian-sex-stories\", \"count\": 42, \"source\": \"reviews-and-essays\"}, {\"target\": \"chain-stories\", \"count\": 42, \"source\": \"anal-sex-stories\"}, {\"target\": \"transsexuals-crossdressers\", \"count\": 41, \"source\": \"masturbation-stories\"}, {\"target\": \"chain-stories\", \"count\": 41, \"source\": \"erotic-letters\"}, {\"target\": \"anal-sex-stories\", \"count\": 41, \"source\": \"reviews-and-essays\"}, {\"target\": \"anal-sex-stories\", \"count\": 41, \"source\": \"erotic-letters\"}, {\"target\": \"bdsm-stories\", \"count\": 41, \"source\": \"adult-romance\"}, {\"target\": \"chain-stories\", \"count\": 40, \"source\": \"adult-romance\"}, {\"target\": \"interracial-erotic-stories\", \"count\": 40, \"source\": \"exhibitionist-voyeur\"}, {\"target\": \"interracial-erotic-stories\", \"count\": 40, \"source\": \"gay-sex-stories\"}, {\"target\": \"erotic-novels\", \"count\": 40, \"source\": \"mind-control\"}, {\"target\": \"chain-stories\", \"count\": 39, \"source\": \"masturbation-stories\"}, {\"target\": \"erotic-letters\", \"count\": 39, \"source\": \"transsexuals-crossdressers\"}, {\"target\": \"masturbation-stories\", \"count\": 39, \"source\": \"first-time-sex-stories\"}, {\"target\": \"erotic-novels\", \"count\": 39, \"source\": \"erotic-couplings\"}, {\"target\": \"fetish-stories\", \"count\": 39, \"source\": \"masturbation-stories\"}, {\"target\": \"interracial-erotic-stories\", \"count\": 38, \"source\": \"anal-sex-stories\"}, {\"target\": \"exhibitionist-voyeur\", \"count\": 38, \"source\": \"erotic-novels\"}, {\"target\": \"masturbation-stories\", \"count\": 38, \"source\": \"anal-sex-stories\"}, {\"target\": \"bdsm-stories\", \"count\": 37, \"source\": \"adult-how-to\"}, {\"target\": \"erotic-couplings\", \"count\": 37, \"source\": \"chain-stories\"}, {\"target\": \"bdsm-stories\", \"count\": 37, \"source\": \"gay-sex-stories\"}, {\"target\": \"taboo-sex-stories\", \"count\": 37, \"source\": \"erotic-novels\"}, {\"target\": \"adult-how-to\", \"count\": 37, \"source\": \"transsexuals-crossdressers\"}, {\"target\": \"masturbation-stories\", \"count\": 36, \"source\": \"non-erotic-stories\"}, {\"target\": \"anal-sex-stories\", \"count\": 36, \"source\": \"adult-romance\"}, {\"target\": \"adult-romance\", \"count\": 36, \"source\": \"gay-sex-stories\"}, {\"target\": \"gay-sex-stories\", \"count\": 36, \"source\": \"non-consent-stories\"}, {\"target\": \"transsexuals-crossdressers\", \"count\": 36, \"source\": \"gay-sex-stories\"}, {\"target\": \"transsexuals-crossdressers\", \"count\": 35, \"source\": \"first-time-sex-stories\"}, {\"target\": \"fetish-stories\", \"count\": 35, \"source\": \"adult-romance\"}, {\"target\": \"erotic-horror\", \"count\": 35, \"source\": \"gay-sex-stories\"}, {\"target\": \"erotic-novels\", \"count\": 35, \"source\": \"gay-sex-stories\"}, {\"target\": \"lesbian-sex-stories\", \"count\": 34, \"source\": \"science-fiction-fantasy\"}, {\"target\": \"erotic-novels\", \"count\": 34, \"source\": \"adult-how-to\"}, {\"target\": \"exhibitionist-voyeur\", \"count\": 34, \"source\": \"transsexuals-crossdressers\"}, {\"target\": \"transsexuals-crossdressers\", \"count\": 34, \"source\": \"exhibitionist-voyeur\"}, {\"target\": \"mature-sex\", \"count\": 34, \"source\": \"first-time-sex-stories\"}, {\"target\": \"non-erotic-stories\", \"count\": 34, \"source\": \"lesbian-sex-stories\"}, {\"target\": \"erotic-novels\", \"count\": 34, \"source\": \"loving-wives\"}, {\"target\": \"science-fiction-fantasy\", \"count\": 33, \"source\": \"gay-sex-stories\"}, {\"target\": \"adult-humor\", \"count\": 33, \"source\": \"exhibitionist-voyeur\"}, {\"target\": \"reviews-and-essays\", \"count\": 33, \"source\": \"gay-sex-stories\"}, {\"target\": \"adult-how-to\", \"count\": 33, \"source\": \"gay-sex-stories\"}, {\"target\": \"fetish-stories\", \"count\": 33, \"source\": \"first-time-sex-stories\"}, {\"target\": \"chain-stories\", \"count\": 32, \"source\": \"non-consent-stories\"}, {\"target\": \"masturbation-stories\", \"count\": 32, \"source\": \"erotic-couplings\"}, {\"target\": \"science-fiction-fantasy\", \"count\": 32, \"source\": \"group-sex-stories\"}, {\"target\": \"mind-control\", \"count\": 32, \"source\": \"non-erotic-stories\"}, {\"target\": \"chain-stories\", \"count\": 32, \"source\": \"non-human-stories\"}, {\"target\": \"non-human-stories\", \"count\": 32, \"source\": \"lesbian-sex-stories\"}, {\"target\": \"erotic-horror\", \"count\": 32, \"source\": \"illustrated-erotic-fiction\"}, {\"target\": \"erotic-couplings\", \"count\": 32, \"source\": \"erotic-novels\"}, {\"target\": \"science-fiction-fantasy\", \"count\": 31, \"source\": \"mature-sex\"}, {\"target\": \"transsexuals-crossdressers\", \"count\": 31, \"source\": \"adult-romance\"}, {\"target\": \"erotic-letters\", \"count\": 31, \"source\": \"gay-sex-stories\"}, {\"target\": \"bdsm-stories\", \"count\": 31, \"source\": \"erotic-horror\"}, {\"target\": \"loving-wives\", \"count\": 31, \"source\": \"adult-how-to\"}, {\"target\": \"gay-sex-stories\", \"count\": 30, \"source\": \"science-fiction-fantasy\"}, {\"target\": \"adult-how-to\", \"count\": 30, \"source\": \"anal-sex-stories\"}, {\"target\": \"taboo-sex-stories\", \"count\": 30, \"source\": \"chain-stories\"}, {\"target\": \"masturbation-stories\", \"count\": 30, \"source\": \"mature-sex\"}, {\"target\": \"illustrated-erotic-fiction\", \"count\": 30, \"source\": \"non-human-stories\"}, {\"target\": \"exhibitionist-voyeur\", \"count\": 29, \"source\": \"illustrated-erotic-fiction\"}, {\"target\": \"gay-sex-stories\", \"count\": 29, \"source\": \"mature-sex\"}, {\"target\": \"science-fiction-fantasy\", \"count\": 29, \"source\": \"anal-sex-stories\"}, {\"target\": \"non-human-stories\", \"count\": 29, \"source\": \"science-fiction-fantasy\"}, {\"target\": \"anal-sex-stories\", \"count\": 29, \"source\": \"first-time-sex-stories\"}, {\"target\": \"gay-sex-stories\", \"count\": 29, \"source\": \"exhibitionist-voyeur\"}, {\"target\": \"erotic-novels\", \"count\": 28, \"source\": \"transsexuals-crossdressers\"}, {\"target\": \"gay-sex-stories\", \"count\": 28, \"source\": \"loving-wives\"}, {\"target\": \"gay-sex-stories\", \"count\": 28, \"source\": \"lesbian-sex-stories\"}, {\"target\": \"audio-sex-stories\", \"count\": 28, \"source\": \"masturbation-stories\"}, {\"target\": \"interracial-erotic-stories\", \"count\": 28, \"source\": \"adult-how-to\"}, {\"target\": \"reviews-and-essays\", \"count\": 28, \"source\": \"anal-sex-stories\"}, {\"target\": \"erotic-letters\", \"count\": 28, \"source\": \"non-erotic-stories\"}, {\"target\": \"chain-stories\", \"count\": 27, \"source\": \"lesbian-sex-stories\"}, {\"target\": \"loving-wives\", \"count\": 27, \"source\": \"chain-stories\"}, {\"target\": \"loving-wives\", \"count\": 27, \"source\": \"gay-sex-stories\"}, {\"target\": \"interracial-erotic-stories\", \"count\": 27, \"source\": \"first-time-sex-stories\"}, {\"target\": \"audio-sex-stories\", \"count\": 27, \"source\": \"non-erotic-stories\"}, {\"target\": \"chain-stories\", \"count\": 27, \"source\": \"mind-control\"}, {\"target\": \"erotic-letters\", \"count\": 27, \"source\": \"interracial-erotic-stories\"}, {\"target\": \"group-sex-stories\", \"count\": 27, \"source\": \"adult-humor\"}, {\"target\": \"reviews-and-essays\", \"count\": 27, \"source\": \"mature-sex\"}, {\"target\": \"science-fiction-fantasy\", \"count\": 27, \"source\": \"reviews-and-essays\"}, {\"target\": \"mind-control\", \"count\": 27, \"source\": \"lesbian-sex-stories\"}, {\"target\": \"fetish-stories\", \"count\": 27, \"source\": \"transsexuals-crossdressers\"}, {\"target\": \"non-erotic-stories\", \"count\": 27, \"source\": \"transsexuals-crossdressers\"}, {\"target\": \"fetish-stories\", \"count\": 26, \"source\": \"mind-control\"}, {\"target\": \"transsexuals-crossdressers\", \"count\": 26, \"source\": \"group-sex-stories\"}, {\"target\": \"gay-sex-stories\", \"count\": 26, \"source\": \"mind-control\"}, {\"target\": \"science-fiction-fantasy\", \"count\": 26, \"source\": \"adult-how-to\"}, {\"target\": \"mature-sex\", \"count\": 26, \"source\": \"taboo-sex-stories\"}, {\"target\": \"chain-stories\", \"count\": 26, \"source\": \"mature-sex\"}, {\"target\": \"anal-sex-stories\", \"count\": 26, \"source\": \"transsexuals-crossdressers\"}, {\"target\": \"mature-sex\", \"count\": 26, \"source\": \"illustrated-erotic-fiction\"}, {\"target\": \"audio-sex-stories\", \"count\": 26, \"source\": \"anal-sex-stories\"}, {\"target\": \"adult-humor\", \"count\": 25, \"source\": \"taboo-sex-stories\"}, {\"target\": \"group-sex-stories\", \"count\": 25, \"source\": \"erotic-horror\"}, {\"target\": \"adult-humor\", \"count\": 25, \"source\": \"loving-wives\"}, {\"target\": \"masturbation-stories\", \"count\": 25, \"source\": \"exhibitionist-voyeur\"}, {\"target\": \"adult-how-to\", \"count\": 25, \"source\": \"erotic-letters\"}, {\"target\": \"gay-sex-stories\", \"count\": 25, \"source\": \"non-erotic-stories\"}, {\"target\": \"adult-humor\", \"count\": 25, \"source\": \"audio-sex-stories\"}, {\"target\": \"adult-romance\", \"count\": 25, \"source\": \"transsexuals-crossdressers\"}, {\"target\": \"lesbian-sex-stories\", \"count\": 25, \"source\": \"transsexuals-crossdressers\"}, {\"target\": \"gay-sex-stories\", \"count\": 25, \"source\": \"bdsm-stories\"}, {\"target\": \"science-fiction-fantasy\", \"count\": 25, \"source\": \"bdsm-stories\"}, {\"target\": \"non-erotic-stories\", \"count\": 25, \"source\": \"anal-sex-stories\"}, {\"target\": \"adult-humor\", \"count\": 25, \"source\": \"illustrated-erotic-fiction\"}, {\"target\": \"adult-how-to\", \"count\": 24, \"source\": \"illustrated-erotic-fiction\"}, {\"target\": \"adult-how-to\", \"count\": 24, \"source\": \"adult-humor\"}, {\"target\": \"exhibitionist-voyeur\", \"count\": 24, \"source\": \"erotic-couplings\"}, {\"target\": \"loving-wives\", \"count\": 24, \"source\": \"taboo-sex-stories\"}, {\"target\": \"chain-stories\", \"count\": 24, \"source\": \"fetish-stories\"}, {\"target\": \"anal-sex-stories\", \"count\": 24, \"source\": \"illustrated-erotic-fiction\"}, {\"target\": \"fetish-stories\", \"count\": 23, \"source\": \"illustrated-erotic-fiction\"}, {\"target\": \"loving-wives\", \"count\": 23, \"source\": \"erotic-novels\"}, {\"target\": \"first-time-sex-stories\", \"count\": 23, \"source\": \"taboo-sex-stories\"}, {\"target\": \"non-human-stories\", \"count\": 23, \"source\": \"non-erotic-stories\"}, {\"target\": \"masturbation-stories\", \"count\": 23, \"source\": \"group-sex-stories\"}, {\"target\": \"adult-humor\", \"count\": 23, \"source\": \"chain-stories\"}, {\"target\": \"erotic-horror\", \"count\": 23, \"source\": \"audio-sex-stories\"}, {\"target\": \"erotic-letters\", \"count\": 23, \"source\": \"lesbian-sex-stories\"}, {\"target\": \"adult-how-to\", \"count\": 23, \"source\": \"reviews-and-essays\"}, {\"target\": \"interracial-erotic-stories\", \"count\": 22, \"source\": \"adult-romance\"}, {\"target\": \"interracial-erotic-stories\", \"count\": 22, \"source\": \"illustrated-erotic-fiction\"}, {\"target\": \"chain-stories\", \"count\": 22, \"source\": \"audio-sex-stories\"}, {\"target\": \"exhibitionist-voyeur\", \"count\": 22, \"source\": \"chain-stories\"}, {\"target\": \"science-fiction-fantasy\", \"count\": 22, \"source\": \"erotic-letters\"}, {\"target\": \"mind-control\", \"count\": 22, \"source\": \"first-time-sex-stories\"}, {\"target\": \"gay-sex-stories\", \"count\": 22, \"source\": \"masturbation-stories\"}, {\"target\": \"lesbian-sex-stories\", \"count\": 22, \"source\": \"illustrated-erotic-fiction\"}, {\"target\": \"masturbation-stories\", \"count\": 22, \"source\": \"interracial-erotic-stories\"}, {\"target\": \"erotic-letters\", \"count\": 22, \"source\": \"first-time-sex-stories\"}, {\"target\": \"taboo-sex-stories\", \"count\": 21, \"source\": \"illustrated-erotic-fiction\"}, {\"target\": \"transsexuals-crossdressers\", \"count\": 21, \"source\": \"illustrated-erotic-fiction\"}, {\"target\": \"erotic-couplings\", \"count\": 21, \"source\": \"audio-sex-stories\"}, {\"target\": \"masturbation-stories\", \"count\": 21, \"source\": \"illustrated-erotic-fiction\"}, {\"target\": \"mind-control\", \"count\": 21, \"source\": \"illustrated-erotic-fiction\"}, {\"target\": \"chain-stories\", \"count\": 21, \"source\": \"gay-sex-stories\"}, {\"target\": \"science-fiction-fantasy\", \"count\": 21, \"source\": \"interracial-erotic-stories\"}, {\"target\": \"bdsm-stories\", \"count\": 20, \"source\": \"audio-sex-stories\"}, {\"target\": \"chain-stories\", \"count\": 20, \"source\": \"illustrated-erotic-fiction\"}, {\"target\": \"adult-romance\", \"count\": 20, \"source\": \"illustrated-erotic-fiction\"}, {\"target\": \"audio-sex-stories\", \"count\": 20, \"source\": \"non-consent-stories\"}, {\"target\": \"erotic-letters\", \"count\": 20, \"source\": \"mature-sex\"}, {\"target\": \"exhibitionist-voyeur\", \"count\": 20, \"source\": \"audio-sex-stories\"}, {\"target\": \"gay-sex-stories\", \"count\": 20, \"source\": \"erotic-horror\"}, {\"target\": \"erotic-letters\", \"count\": 20, \"source\": \"illustrated-erotic-fiction\"}, {\"target\": \"non-consent-stories\", \"count\": 20, \"source\": \"non-erotic-stories\"}, {\"target\": \"adult-how-to\", \"count\": 20, \"source\": \"non-erotic-stories\"}, {\"target\": \"chain-stories\", \"count\": 20, \"source\": \"transsexuals-crossdressers\"}, {\"target\": \"audio-sex-stories\", \"count\": 20, \"source\": \"adult-how-to\"}, {\"target\": \"audio-sex-stories\", \"count\": 20, \"source\": \"erotic-letters\"}, {\"target\": \"erotic-horror\", \"count\": 19, \"source\": \"erotic-couplings\"}, {\"target\": \"fetish-stories\", \"count\": 19, \"source\": \"interracial-erotic-stories\"}, {\"target\": \"chain-stories\", \"count\": 19, \"source\": \"group-sex-stories\"}, {\"target\": \"mind-control\", \"count\": 19, \"source\": \"adult-romance\"}, {\"target\": \"erotic-novels\", \"count\": 19, \"source\": \"illustrated-erotic-fiction\"}, {\"target\": \"interracial-erotic-stories\", \"count\": 19, \"source\": \"erotic-letters\"}, {\"target\": \"non-human-stories\", \"count\": 19, \"source\": \"first-time-sex-stories\"}, {\"target\": \"fetish-stories\", \"count\": 19, \"source\": \"non-erotic-stories\"}, {\"target\": \"chain-stories\", \"count\": 19, \"source\": \"bdsm-stories\"}, {\"target\": \"reviews-and-essays\", \"count\": 19, \"source\": \"illustrated-erotic-fiction\"}, {\"target\": \"science-fiction-fantasy\", \"count\": 19, \"source\": \"illustrated-erotic-fiction\"}, {\"target\": \"exhibitionist-voyeur\", \"count\": 19, \"source\": \"taboo-sex-stories\"}, {\"target\": \"fetish-stories\", \"count\": 19, \"source\": \"mature-sex\"}, {\"target\": \"loving-wives\", \"count\": 19, \"source\": \"illustrated-erotic-fiction\"}, {\"target\": \"non-erotic-stories\", \"count\": 19, \"source\": \"illustrated-erotic-fiction\"}, {\"target\": \"transsexuals-crossdressers\", \"count\": 19, \"source\": \"adult-humor\"}, {\"target\": \"erotic-letters\", \"count\": 18, \"source\": \"adult-romance\"}, {\"target\": \"science-fiction-fantasy\", \"count\": 18, \"source\": \"transsexuals-crossdressers\"}, {\"target\": \"first-time-sex-stories\", \"count\": 18, \"source\": \"audio-sex-stories\"}, {\"target\": \"chain-stories\", \"count\": 18, \"source\": \"interracial-erotic-stories\"}, {\"target\": \"mature-sex\", \"count\": 18, \"source\": \"transsexuals-crossdressers\"}, {\"target\": \"gay-sex-stories\", \"count\": 18, \"source\": \"interracial-erotic-stories\"}, {\"target\": \"mind-control\", \"count\": 18, \"source\": \"gay-sex-stories\"}, {\"target\": \"illustrated-erotic-fiction\", \"count\": 18, \"source\": \"science-fiction-fantasy\"}, {\"target\": \"non-consent-stories\", \"count\": 18, \"source\": \"science-fiction-fantasy\"}, {\"target\": \"non-human-stories\", \"count\": 18, \"source\": \"gay-sex-stories\"}, {\"target\": \"erotic-novels\", \"count\": 18, \"source\": \"taboo-sex-stories\"}, {\"target\": \"group-sex-stories\", \"count\": 18, \"source\": \"chain-stories\"}, {\"target\": \"reviews-and-essays\", \"count\": 18, \"source\": \"first-time-sex-stories\"}, {\"target\": \"group-sex-stories\", \"count\": 18, \"source\": \"illustrated-erotic-fiction\"}, {\"target\": \"erotic-letters\", \"count\": 17, \"source\": \"chain-stories\"}, {\"target\": \"non-consent-stories\", \"count\": 17, \"source\": \"first-time-sex-stories\"}, {\"target\": \"science-fiction-fantasy\", \"count\": 17, \"source\": \"audio-sex-stories\"}, {\"target\": \"adult-how-to\", \"count\": 17, \"source\": \"bdsm-stories\"}, {\"target\": \"adult-how-to\", \"count\": 17, \"source\": \"mature-sex\"}, {\"target\": \"mind-control\", \"count\": 17, \"source\": \"transsexuals-crossdressers\"}, {\"target\": \"bdsm-stories\", \"count\": 17, \"source\": \"illustrated-erotic-fiction\"}, {\"target\": \"adult-how-to\", \"count\": 17, \"source\": \"interracial-erotic-stories\"}, {\"target\": \"adult-how-to\", \"count\": 17, \"source\": \"first-time-sex-stories\"}, {\"target\": \"erotic-novels\", \"count\": 17, \"source\": \"exhibitionist-voyeur\"}, {\"target\": \"mind-control\", \"count\": 17, \"source\": \"anal-sex-stories\"}, {\"target\": \"first-time-sex-stories\", \"count\": 17, \"source\": \"illustrated-erotic-fiction\"}, {\"target\": \"audio-sex-stories\", \"count\": 17, \"source\": \"lesbian-sex-stories\"}, {\"target\": \"fetish-stories\", \"count\": 16, \"source\": \"gay-sex-stories\"}, {\"target\": \"masturbation-stories\", \"count\": 16, \"source\": \"chain-stories\"}, {\"target\": \"adult-how-to\", \"count\": 16, \"source\": \"group-sex-stories\"}, {\"target\": \"gay-sex-stories\", \"count\": 16, \"source\": \"adult-romance\"}, {\"target\": \"reviews-and-essays\", \"count\": 16, \"source\": \"chain-stories\"}, {\"target\": \"interracial-erotic-stories\", \"count\": 15, \"source\": \"chain-stories\"}, {\"target\": \"chain-stories\", \"count\": 15, \"source\": \"exhibitionist-voyeur\"}, {\"target\": \"transsexuals-crossdressers\", \"count\": 15, \"source\": \"bdsm-stories\"}, {\"target\": \"erotic-novels\", \"count\": 15, \"source\": \"audio-sex-stories\"}, {\"target\": \"masturbation-stories\", \"count\": 15, \"source\": \"bdsm-stories\"}, {\"target\": \"non-consent-stories\", \"count\": 15, \"source\": \"chain-stories\"}, {\"target\": \"non-consent-stories\", \"count\": 15, \"source\": \"illustrated-erotic-fiction\"}, {\"target\": \"adult-how-to\", \"count\": 15, \"source\": \"adult-romance\"}, {\"target\": \"loving-wives\", \"count\": 15, \"source\": \"audio-sex-stories\"}, {\"target\": \"mind-control\", \"count\": 15, \"source\": \"masturbation-stories\"}, {\"target\": \"non-erotic-stories\", \"count\": 15, \"source\": \"interracial-erotic-stories\"}, {\"target\": \"bdsm-stories\", \"count\": 14, \"source\": \"taboo-sex-stories\"}, {\"target\": \"adult-romance\", \"count\": 14, \"source\": \"erotic-couplings\"}, {\"target\": \"erotic-novels\", \"count\": 14, \"source\": \"chain-stories\"}, {\"target\": \"illustrated-erotic-fiction\", \"count\": 14, \"source\": \"non-consent-stories\"}, {\"target\": \"lesbian-sex-stories\", \"count\": 14, \"source\": \"anal-sex-stories\"}, {\"target\": \"erotic-novels\", \"count\": 14, \"source\": \"erotic-horror\"}, {\"target\": \"mind-control\", \"count\": 14, \"source\": \"chain-stories\"}, {\"target\": \"mature-sex\", \"count\": 14, \"source\": \"loving-wives\"}, {\"target\": \"adult-how-to\", \"count\": 14, \"source\": \"chain-stories\"}, {\"target\": \"erotic-couplings\", \"count\": 14, \"source\": \"illustrated-erotic-fiction\"}, {\"target\": \"anal-sex-stories\", \"count\": 14, \"source\": \"taboo-sex-stories\"}, {\"target\": \"non-human-stories\", \"count\": 14, \"source\": \"chain-stories\"}, {\"target\": \"adult-romance\", \"count\": 14, \"source\": \"audio-sex-stories\"}, {\"target\": \"loving-wives\", \"count\": 13, \"source\": \"erotic-couplings\"}, {\"target\": \"reviews-and-essays\", \"count\": 13, \"source\": \"adult-romance\"}, {\"target\": \"lesbian-sex-stories\", \"count\": 13, \"source\": \"bdsm-stories\"}, {\"target\": \"anal-sex-stories\", \"count\": 13, \"source\": \"chain-stories\"}, {\"target\": \"adult-how-to\", \"count\": 13, \"source\": \"loving-wives\"}, {\"target\": \"fetish-stories\", \"count\": 13, \"source\": \"chain-stories\"}, {\"target\": \"audio-sex-stories\", \"count\": 13, \"source\": \"reviews-and-essays\"}, {\"target\": \"first-time-sex-stories\", \"count\": 13, \"source\": \"adult-humor\"}, {\"target\": \"adult-how-to\", \"count\": 13, \"source\": \"erotic-couplings\"}, {\"target\": \"lesbian-sex-stories\", \"count\": 12, \"source\": \"adult-humor\"}, {\"target\": \"lesbian-sex-stories\", \"count\": 12, \"source\": \"first-time-sex-stories\"}, {\"target\": \"lesbian-sex-stories\", \"count\": 12, \"source\": \"mature-sex\"}, {\"target\": \"transsexuals-crossdressers\", \"count\": 12, \"source\": \"reviews-and-essays\"}, {\"target\": \"erotic-horror\", \"count\": 12, \"source\": \"loving-wives\"}, {\"target\": \"masturbation-stories\", \"count\": 12, \"source\": \"taboo-sex-stories\"}, {\"target\": \"transsexuals-crossdressers\", \"count\": 12, \"source\": \"chain-stories\"}, {\"target\": \"bdsm-stories\", \"count\": 12, \"source\": \"chain-stories\"}, {\"target\": \"taboo-sex-stories\", \"count\": 12, \"source\": \"audio-sex-stories\"}, {\"target\": \"non-consent-stories\", \"count\": 12, \"source\": \"transsexuals-crossdressers\"}, {\"target\": \"reviews-and-essays\", \"count\": 12, \"source\": \"lesbian-sex-stories\"}, {\"target\": \"adult-romance\", \"count\": 11, \"source\": \"loving-wives\"}, {\"target\": \"audio-sex-stories\", \"count\": 11, \"source\": \"mind-control\"}, {\"target\": \"chain-stories\", \"count\": 11, \"source\": \"erotic-novels\"}, {\"target\": \"audio-sex-stories\", \"count\": 11, \"source\": \"group-sex-stories\"}, {\"target\": \"mature-sex\", \"count\": 11, \"source\": \"adult-humor\"}, {\"target\": \"gay-sex-stories\", \"count\": 11, \"source\": \"illustrated-erotic-fiction\"}, {\"target\": \"gay-sex-stories\", \"count\": 11, \"source\": \"erotic-letters\"}, {\"target\": \"science-fiction-fantasy\", \"count\": 11, \"source\": \"erotic-horror\"}, {\"target\": \"adult-romance\", \"count\": 11, \"source\": \"chain-stories\"}, {\"target\": \"mature-sex\", \"count\": 11, \"source\": \"audio-sex-stories\"}, {\"target\": \"illustrated-erotic-fiction\", \"count\": 11, \"source\": \"first-time-sex-stories\"}, {\"target\": \"illustrated-erotic-fiction\", \"count\": 11, \"source\": \"masturbation-stories\"}, {\"target\": \"transsexuals-crossdressers\", \"count\": 11, \"source\": \"adult-how-to\"}, {\"target\": \"reviews-and-essays\", \"count\": 11, \"source\": \"audio-sex-stories\"}, {\"target\": \"masturbation-stories\", \"count\": 11, \"source\": \"adult-humor\"}, {\"target\": \"fetish-stories\", \"count\": 11, \"source\": \"group-sex-stories\"}, {\"target\": \"fetish-stories\", \"count\": 11, \"source\": \"bdsm-stories\"}, {\"target\": \"audio-sex-stories\", \"count\": 11, \"source\": \"transsexuals-crossdressers\"}, {\"target\": \"transsexuals-crossdressers\", \"count\": 10, \"source\": \"erotic-letters\"}, {\"target\": \"mind-control\", \"count\": 10, \"source\": \"audio-sex-stories\"}, {\"target\": \"audio-sex-stories\", \"count\": 10, \"source\": \"mature-sex\"}, {\"target\": \"exhibitionist-voyeur\", \"count\": 10, \"source\": \"loving-wives\"}, {\"target\": \"adult-how-to\", \"count\": 10, \"source\": \"lesbian-sex-stories\"}, {\"target\": \"illustrated-erotic-fiction\", \"count\": 10, \"source\": \"erotic-letters\"}, {\"target\": \"audio-sex-stories\", \"count\": 10, \"source\": \"non-human-stories\"}, {\"target\": \"interracial-erotic-stories\", \"count\": 10, \"source\": \"group-sex-stories\"}, {\"target\": \"masturbation-stories\", \"count\": 10, \"source\": \"erotic-letters\"}, {\"target\": \"illustrated-erotic-fiction\", \"count\": 10, \"source\": \"mind-control\"}, {\"target\": \"gay-sex-stories\", \"count\": 10, \"source\": \"adult-how-to\"}, {\"target\": \"lesbian-sex-stories\", \"count\": 10, \"source\": \"erotic-couplings\"}, {\"target\": \"mature-sex\", \"count\": 10, \"source\": \"chain-stories\"}, {\"target\": \"illustrated-erotic-fiction\", \"count\": 10, \"source\": \"non-erotic-stories\"}, {\"target\": \"erotic-horror\", \"count\": 10, \"source\": \"taboo-sex-stories\"}, {\"target\": \"gay-sex-stories\", \"count\": 10, \"source\": \"taboo-sex-stories\"}, {\"target\": \"audio-sex-stories\", \"count\": 10, \"source\": \"fetish-stories\"}, {\"target\": \"lesbian-sex-stories\", \"count\": 10, \"source\": \"chain-stories\"}, {\"target\": \"illustrated-erotic-fiction\", \"count\": 10, \"source\": \"interracial-erotic-stories\"}, {\"target\": \"transsexuals-crossdressers\", \"count\": 9, \"source\": \"audio-sex-stories\"}, {\"target\": \"audio-sex-stories\", \"count\": 9, \"source\": \"gay-sex-stories\"}, {\"target\": \"masturbation-stories\", \"count\": 9, \"source\": \"audio-sex-stories\"}, {\"target\": \"fetish-stories\", \"count\": 9, \"source\": \"taboo-sex-stories\"}, {\"target\": \"reviews-and-essays\", \"count\": 9, \"source\": \"exhibitionist-voyeur\"}, {\"target\": \"interracial-erotic-stories\", \"count\": 9, \"source\": \"transsexuals-crossdressers\"}, {\"target\": \"audio-sex-stories\", \"count\": 9, \"source\": \"illustrated-erotic-fiction\"}, {\"target\": \"group-sex-stories\", \"count\": 9, \"source\": \"audio-sex-stories\"}, {\"target\": \"illustrated-erotic-fiction\", \"count\": 9, \"source\": \"gay-sex-stories\"}, {\"target\": \"illustrated-erotic-fiction\", \"count\": 9, \"source\": \"anal-sex-stories\"}, {\"target\": \"illustrated-erotic-fiction\", \"count\": 9, \"source\": \"chain-stories\"}, {\"target\": \"masturbation-stories\", \"count\": 9, \"source\": \"adult-how-to\"}, {\"target\": \"chain-stories\", \"count\": 9, \"source\": \"erotic-horror\"}, {\"target\": \"illustrated-erotic-fiction\", \"count\": 9, \"source\": \"reviews-and-essays\"}, {\"target\": \"lesbian-sex-stories\", \"count\": 9, \"source\": \"loving-wives\"}, {\"target\": \"illustrated-erotic-fiction\", \"count\": 9, \"source\": \"transsexuals-crossdressers\"}, {\"target\": \"illustrated-erotic-fiction\", \"count\": 9, \"source\": \"adult-humor\"}, {\"target\": \"illustrated-erotic-fiction\", \"count\": 9, \"source\": \"fetish-stories\"}, {\"target\": \"illustrated-erotic-fiction\", \"count\": 8, \"source\": \"group-sex-stories\"}, {\"target\": \"audio-sex-stories\", \"count\": 8, \"source\": \"interracial-erotic-stories\"}, {\"target\": \"adult-romance\", \"count\": 8, \"source\": \"exhibitionist-voyeur\"}, {\"target\": \"non-human-stories\", \"count\": 8, \"source\": \"erotic-horror\"}, {\"target\": \"masturbation-stories\", \"count\": 8, \"source\": \"erotic-horror\"}, {\"target\": \"interracial-erotic-stories\", \"count\": 8, \"source\": \"taboo-sex-stories\"}, {\"target\": \"fetish-stories\", \"count\": 8, \"source\": \"exhibitionist-voyeur\"}, {\"target\": \"interracial-erotic-stories\", \"count\": 8, \"source\": \"audio-sex-stories\"}, {\"target\": \"illustrated-erotic-fiction\", \"count\": 8, \"source\": \"mature-sex\"}, {\"target\": \"illustrated-erotic-fiction\", \"count\": 8, \"source\": \"loving-wives\"}, {\"target\": \"non-human-stories\", \"count\": 8, \"source\": \"fetish-stories\"}, {\"target\": \"gay-sex-stories\", \"count\": 8, \"source\": \"reviews-and-essays\"}, {\"target\": \"mind-control\", \"count\": 8, \"source\": \"adult-how-to\"}, {\"target\": \"gay-sex-stories\", \"count\": 8, \"source\": \"group-sex-stories\"}, {\"target\": \"reviews-and-essays\", \"count\": 8, \"source\": \"erotic-horror\"}, {\"target\": \"audio-sex-stories\", \"count\": 8, \"source\": \"adult-romance\"}, {\"target\": \"audio-sex-stories\", \"count\": 7, \"source\": \"first-time-sex-stories\"}, {\"target\": \"illustrated-erotic-fiction\", \"count\": 7, \"source\": \"erotic-couplings\"}, {\"target\": \"transsexuals-crossdressers\", \"count\": 7, \"source\": \"erotic-novels\"}, {\"target\": \"illustrated-erotic-fiction\", \"count\": 7, \"source\": \"bdsm-stories\"}, {\"target\": \"science-fiction-fantasy\", \"count\": 7, \"source\": \"erotic-novels\"}, {\"target\": \"transsexuals-crossdressers\", \"count\": 7, \"source\": \"taboo-sex-stories\"}, {\"target\": \"non-erotic-stories\", \"count\": 7, \"source\": \"taboo-sex-stories\"}, {\"target\": \"erotic-letters\", \"count\": 7, \"source\": \"group-sex-stories\"}, {\"target\": \"non-erotic-stories\", \"count\": 7, \"source\": \"adult-humor\"}, {\"target\": \"fetish-stories\", \"count\": 6, \"source\": \"audio-sex-stories\"}, {\"target\": \"mature-sex\", \"count\": 6, \"source\": \"bdsm-stories\"}, {\"target\": \"erotic-letters\", \"count\": 6, \"source\": \"exhibitionist-voyeur\"}, {\"target\": \"adult-how-to\", \"count\": 6, \"source\": \"audio-sex-stories\"}, {\"target\": \"fetish-stories\", \"count\": 6, \"source\": \"adult-humor\"}, {\"target\": \"non-consent-stories\", \"count\": 6, \"source\": \"audio-sex-stories\"}, {\"target\": \"erotic-letters\", \"count\": 6, \"source\": \"taboo-sex-stories\"}, {\"target\": \"erotic-letters\", \"count\": 6, \"source\": \"audio-sex-stories\"}, {\"target\": \"mind-control\", \"count\": 6, \"source\": \"erotic-letters\"}, {\"target\": \"non-erotic-stories\", \"count\": 6, \"source\": \"mature-sex\"}, {\"target\": \"audio-sex-stories\", \"count\": 6, \"source\": \"science-fiction-fantasy\"}, {\"target\": \"non-human-stories\", \"count\": 6, \"source\": \"audio-sex-stories\"}, {\"target\": \"interracial-erotic-stories\", \"count\": 5, \"source\": \"adult-humor\"}, {\"target\": \"bdsm-stories\", \"count\": 5, \"source\": \"loving-wives\"}, {\"target\": \"non-erotic-stories\", \"count\": 5, \"source\": \"exhibitionist-voyeur\"}, {\"target\": \"lesbian-sex-stories\", \"count\": 5, \"source\": \"audio-sex-stories\"}, {\"target\": \"non-consent-stories\", \"count\": 5, \"source\": \"erotic-horror\"}, {\"target\": \"adult-romance\", \"count\": 5, \"source\": \"erotic-horror\"}, {\"target\": \"illustrated-erotic-fiction\", \"count\": 5, \"source\": \"audio-sex-stories\"}, {\"target\": \"anal-sex-stories\", \"count\": 5, \"source\": \"audio-sex-stories\"}, {\"target\": \"chain-stories\", \"count\": 5, \"source\": \"taboo-sex-stories\"}, {\"target\": \"masturbation-stories\", \"count\": 5, \"source\": \"loving-wives\"}, {\"target\": \"fetish-stories\", \"count\": 5, \"source\": \"erotic-horror\"}, {\"target\": \"mind-control\", \"count\": 5, \"source\": \"taboo-sex-stories\"}, {\"target\": \"transsexuals-crossdressers\", \"count\": 5, \"source\": \"erotic-couplings\"}, {\"target\": \"erotic-letters\", \"count\": 5, \"source\": \"loving-wives\"}, {\"target\": \"non-erotic-stories\", \"count\": 5, \"source\": \"first-time-sex-stories\"}, {\"target\": \"non-human-stories\", \"count\": 4, \"source\": \"anal-sex-stories\"}, {\"target\": \"audio-sex-stories\", \"count\": 4, \"source\": \"bdsm-stories\"}, {\"target\": \"mature-sex\", \"count\": 4, \"source\": \"erotic-horror\"}, {\"target\": \"anal-sex-stories\", \"count\": 4, \"source\": \"adult-humor\"}, {\"target\": \"transsexuals-crossdressers\", \"count\": 4, \"source\": \"erotic-horror\"}, {\"target\": \"masturbation-stories\", \"count\": 4, \"source\": \"reviews-and-essays\"}, {\"target\": \"bdsm-stories\", \"count\": 4, \"source\": \"adult-humor\"}, {\"target\": \"fetish-stories\", \"count\": 4, \"source\": \"reviews-and-essays\"}, {\"target\": \"mind-control\", \"count\": 4, \"source\": \"erotic-horror\"}, {\"target\": \"reviews-and-essays\", \"count\": 4, \"source\": \"taboo-sex-stories\"}, {\"target\": \"erotic-letters\", \"count\": 4, \"source\": \"bdsm-stories\"}, {\"target\": \"lesbian-sex-stories\", \"count\": 4, \"source\": \"erotic-horror\"}, {\"target\": \"adult-how-to\", \"count\": 4, \"source\": \"erotic-horror\"}, {\"target\": \"non-consent-stories\", \"count\": 4, \"source\": \"taboo-sex-stories\"}, {\"target\": \"mind-control\", \"count\": 4, \"source\": \"group-sex-stories\"}, {\"target\": \"erotic-letters\", \"count\": 3, \"source\": \"erotic-horror\"}, {\"target\": \"illustrated-erotic-fiction\", \"count\": 3, \"source\": \"lesbian-sex-stories\"}, {\"target\": \"erotic-letters\", \"count\": 3, \"source\": \"adult-humor\"}, {\"target\": \"non-erotic-stories\", \"count\": 3, \"source\": \"erotic-horror\"}, {\"target\": \"non-consent-stories\", \"count\": 3, \"source\": \"interracial-erotic-stories\"}, {\"target\": \"exhibitionist-voyeur\", \"count\": 3, \"source\": \"erotic-horror\"}, {\"target\": \"illustrated-erotic-fiction\", \"count\": 3, \"source\": \"erotic-horror\"}, {\"target\": \"gay-sex-stories\", \"count\": 3, \"source\": \"adult-humor\"}, {\"target\": \"anal-sex-stories\", \"count\": 3, \"source\": \"loving-wives\"}, {\"target\": \"fetish-stories\", \"count\": 3, \"source\": \"loving-wives\"}, {\"target\": \"adult-how-to\", \"count\": 3, \"source\": \"exhibitionist-voyeur\"}, {\"target\": \"non-human-stories\", \"count\": 3, \"source\": \"mind-control\"}, {\"target\": \"interracial-erotic-stories\", \"count\": 3, \"source\": \"loving-wives\"}, {\"target\": \"reviews-and-essays\", \"count\": 3, \"source\": \"loving-wives\"}, {\"target\": \"first-time-sex-stories\", \"count\": 3, \"source\": \"bdsm-stories\"}, {\"target\": \"non-consent-stories\", \"count\": 3, \"source\": \"mature-sex\"}, {\"target\": \"reviews-and-essays\", \"count\": 3, \"source\": \"adult-humor\"}, {\"target\": \"reviews-and-essays\", \"count\": 3, \"source\": \"bdsm-stories\"}, {\"target\": \"non-erotic-stories\", \"count\": 3, \"source\": \"group-sex-stories\"}, {\"target\": \"reviews-and-essays\", \"count\": 3, \"source\": \"group-sex-stories\"}, {\"target\": \"adult-romance\", \"count\": 3, \"source\": \"taboo-sex-stories\"}, {\"target\": \"non-consent-stories\", \"count\": 3, \"source\": \"bdsm-stories\"}, {\"target\": \"first-time-sex-stories\", \"count\": 2, \"source\": \"erotic-horror\"}, {\"target\": \"mind-control\", \"count\": 2, \"source\": \"adult-humor\"}, {\"target\": \"audio-sex-stories\", \"count\": 2, \"source\": \"adult-humor\"}, {\"target\": \"non-consent-stories\", \"count\": 2, \"source\": \"anal-sex-stories\"}, {\"target\": \"non-human-stories\", \"count\": 2, \"source\": \"group-sex-stories\"}, {\"target\": \"non-consent-stories\", \"count\": 2, \"source\": \"loving-wives\"}, {\"target\": \"non-human-stories\", \"count\": 2, \"source\": \"transsexuals-crossdressers\"}, {\"target\": \"mature-sex\", \"count\": 2, \"source\": \"erotic-couplings\"}, {\"target\": \"erotic-letters\", \"count\": 2, \"source\": \"reviews-and-essays\"}, {\"target\": \"science-fiction-fantasy\", \"count\": 2, \"source\": \"exhibitionist-voyeur\"}, {\"target\": \"interracial-erotic-stories\", \"count\": 2, \"source\": \"bdsm-stories\"}, {\"target\": \"non-human-stories\", \"count\": 2, \"source\": \"bdsm-stories\"}, {\"target\": \"interracial-erotic-stories\", \"count\": 2, \"source\": \"erotic-horror\"}, {\"target\": \"science-fiction-fantasy\", \"count\": 2, \"source\": \"erotic-couplings\"}, {\"target\": \"non-human-stories\", \"count\": 2, \"source\": \"erotic-novels\"}, {\"target\": \"audio-sex-stories\", \"count\": 2, \"source\": \"exhibitionist-voyeur\"}, {\"target\": \"illustrated-erotic-fiction\", \"count\": 2, \"source\": \"adult-romance\"}, {\"target\": \"non-consent-stories\", \"count\": 2, \"source\": \"exhibitionist-voyeur\"}, {\"target\": \"gay-sex-stories\", \"count\": 2, \"source\": \"audio-sex-stories\"}, {\"target\": \"science-fiction-fantasy\", \"count\": 2, \"source\": \"taboo-sex-stories\"}, {\"target\": \"erotic-couplings\", \"count\": 1, \"source\": \"non-english-stories\"}, {\"target\": \"fetish-stories\", \"count\": 1, \"source\": \"erotic-letters\"}, {\"target\": \"non-consent-stories\", \"count\": 1, \"source\": \"masturbation-stories\"}, {\"target\": \"non-human-stories\", \"count\": 1, \"source\": \"erotic-letters\"}, {\"target\": \"group-sex-stories\", \"count\": 1, \"source\": \"non-english-stories\"}, {\"target\": \"erotic-horror\", \"count\": 1, \"source\": \"non-english-stories\"}, {\"target\": \"non-human-stories\", \"count\": 1, \"source\": \"loving-wives\"}, {\"target\": \"adult-how-to\", \"count\": 1, \"source\": \"taboo-sex-stories\"}, {\"target\": \"non-consent-stories\", \"count\": 1, \"source\": \"erotic-letters\"}, {\"target\": \"illustrated-erotic-fiction\", \"count\": 1, \"source\": \"exhibitionist-voyeur\"}, {\"target\": \"reviews-and-essays\", \"count\": 1, \"source\": \"non-english-stories\"}, {\"target\": \"gay-sex-stories\", \"count\": 1, \"source\": \"chain-stories\"}, {\"target\": \"non-human-stories\", \"count\": 1, \"source\": \"erotic-couplings\"}, {\"target\": \"non-human-stories\", \"count\": 1, \"source\": \"taboo-sex-stories\"}, {\"target\": \"non-consent-stories\", \"count\": 1, \"source\": \"adult-how-to\"}, {\"target\": \"non-erotic-stories\", \"count\": 1, \"source\": \"loving-wives\"}, {\"target\": \"non-human-stories\", \"count\": 1, \"source\": \"mature-sex\"}, {\"target\": \"non-erotic-stories\", \"count\": 1, \"source\": \"bdsm-stories\"}, {\"target\": \"non-consent-stories\", \"count\": 1, \"source\": \"reviews-and-essays\"}, {\"target\": \"non-human-stories\", \"count\": 1, \"source\": \"reviews-and-essays\"}, {\"target\": \"anal-sex-stories\", \"count\": 1, \"source\": \"non-english-stories\"}, {\"target\": \"lesbian-sex-stories\", \"count\": 1, \"source\": \"adult-romance\"}, {\"target\": \"group-sex-stories\", \"count\": 1, \"source\": \"erotic-couplings\"}, {\"target\": \"first-time-sex-stories\", \"count\": 1, \"source\": \"loving-wives\"}, {\"target\": \"non-human-stories\", \"count\": 1, \"source\": \"interracial-erotic-stories\"}, {\"target\": \"chain-stories\", \"count\": 1, \"source\": \"erotic-couplings\"}, {\"target\": \"lesbian-sex-stories\", \"count\": 1, \"source\": \"exhibitionist-voyeur\"}, {\"target\": \"non-human-stories\", \"count\": 1, \"source\": \"adult-how-to\"}, {\"target\": \"lesbian-sex-stories\", \"count\": 1, \"source\": \"taboo-sex-stories\"}, {\"target\": \"adult-how-to\", \"count\": 1, \"source\": \"non-english-stories\"}, {\"target\": \"interracial-erotic-stories\", \"count\": 1, \"source\": \"reviews-and-essays\"}], \"nodes\": [{\"category\": \"gay-sex-stories\"}, {\"category\": \"non-erotic-stories\"}, {\"category\": \"audio-sex-stories\"}, {\"category\": \"first-time-sex-stories\"}, {\"category\": \"science-fiction-fantasy\"}, {\"category\": \"chain-stories\"}, {\"category\": \"non-human-stories\"}, {\"category\": \"mind-control\"}, {\"category\": \"non-consent-stories\"}, {\"category\": \"interracial-erotic-stories\"}, {\"category\": \"anal-sex-stories\"}, {\"category\": \"mature-sex\"}, {\"category\": \"transsexuals-crossdressers\"}, {\"category\": \"fetish-stories\"}, {\"category\": \"non-english-stories\"}, {\"category\": \"masturbation-stories\"}, {\"category\": \"erotic-letters\"}, {\"category\": \"reviews-and-essays\"}, {\"category\": \"group-sex-stories\"}, {\"category\": \"bdsm-stories\"}, {\"category\": \"adult-humor\"}, {\"category\": \"loving-wives\"}, {\"category\": \"erotic-couplings\"}, {\"category\": \"illustrated-erotic-fiction\"}, {\"category\": \"adult-how-to\"}, {\"category\": \"lesbian-sex-stories\"}, {\"category\": \"erotic-novels\"}, {\"category\": \"adult-romance\"}, {\"category\": \"exhibitionist-voyeur\"}, {\"category\": \"erotic-horror\"}, {\"category\": \"taboo-sex-stories\"}]};"
      ],
      "text/plain": [
       "<IPython.core.display.Javascript object>"
      ]
     },
     "execution_count": 34,
     "metadata": {},
     "output_type": "execute_result"
    }
   ],
   "source": [
    "from IPython.display import Javascript\n",
    "\n",
    "Javascript('window.network={};'.format(network))"
   ]
  },
  {
   "cell_type": "code",
   "execution_count": 35,
   "metadata": {
    "collapsed": false
   },
   "outputs": [
    {
     "data": {
      "application/javascript": [
       "\n",
       "require.config({\n",
       "  paths: {\n",
       "      d3: '//cdnjs.cloudflare.com/ajax/libs/d3/4.12.2/d3.min'\n",
       "  }\n",
       "});"
      ],
      "text/plain": [
       "<IPython.core.display.Javascript object>"
      ]
     },
     "metadata": {},
     "output_type": "display_data"
    }
   ],
   "source": [
    "%%javascript\n",
    "\n",
    "require.config({\n",
    "  paths: {\n",
    "      d3: '//cdnjs.cloudflare.com/ajax/libs/d3/4.12.2/d3.min'\n",
    "  }\n",
    "});"
   ]
  },
  {
   "cell_type": "code",
   "execution_count": 104,
   "metadata": {
    "collapsed": false
   },
   "outputs": [
    {
     "data": {
      "application/javascript": [
       "\n",
       "const forceWidth = 800;\n",
       "const forceHeight = 500;\n",
       "const center = {x: 0, y: forceHeight - 50};\n",
       "\n",
       "// The network is very densely connected. Increase this number to make it sparser.\n",
       "const MIN_AUTHOR_CROSSPOST = 80;\n",
       "\n",
       "require(['d3'], d3 => {\n",
       "    const { nodes, edges } = window.network;\n",
       "    \n",
       "    const filteredEdges = edges.filter(d => d.count > MIN_AUTHOR_CROSSPOST);\n",
       "    \n",
       "    // Remove chart container so that disappears when re-run this cell\n",
       "    $('#chart-container').remove();\n",
       "    \n",
       "    const el = element.append('<div id=\"chart-container\"></div>');\n",
       "    el.width(`${forceWidth}px`);\n",
       "    el.height(`${forceHeight}px`);\n",
       "    \n",
       "    const svg = d3.select('#chart-container')\n",
       "        .append('svg')\n",
       "        .attr('width', forceWidth)\n",
       "        .attr('height', forceHeight);\n",
       "    \n",
       "    const forceLink = d3.forceLink().id(d => d.category);\n",
       "    const forceCharge = d3.forceManyBody().strength(-400);\n",
       "    const forceCenter = d3.forceCenter(center.x, center.y);\n",
       "    \n",
       "    const simulation = d3.forceSimulation()\n",
       "        .force('link', forceLink)\n",
       "        .force('charge', forceCharge)\n",
       "        .force('center', forceCenter);\n",
       "    \n",
       "    const strokeWidth = d3.scaleLinear()\n",
       "        .domain(d3.extent(filteredEdges, d => d.count))\n",
       "        .range([1, 4]);\n",
       "    \n",
       "    const opacity = d3.scalePow()\n",
       "        .domain(strokeWidth.domain())\n",
       "        .range([0.1, 1]);\n",
       "    \n",
       "    const link = svg.append('g')\n",
       "        .attr('class', 'links')\n",
       "        .selectAll('.link')\n",
       "        .data(filteredEdges)\n",
       "        .enter()\n",
       "        .append('line')\n",
       "        .attr('id', d => `${d.source.category}-${d.target.category}`)\n",
       "        .attr('class', 'link')\n",
       "        .attr('stroke', '#aaa')\n",
       "        .attr('stroke-width', d => strokeWidth(d.count))\n",
       "        .attr('opacity', d => opacity(d.count));\n",
       "\n",
       "    const node = svg.append('g')\n",
       "        .attr('class', 'nodes')\n",
       "        .selectAll('.node')\n",
       "        .data(nodes)\n",
       "        .enter()\n",
       "        .append('circle')\n",
       "        .attr('id', d => `node-${d.category}`)\n",
       "        .attr('class', 'node')\n",
       "        .attr('r', 8)\n",
       "        .on('mouseover', highlight)\n",
       "        .on('mouseout', unhighlight);\n",
       "    \n",
       "    const label = svg.append('g')\n",
       "        .attr('class', 'labels')\n",
       "        .selectAll('.label')\n",
       "        .data(nodes)\n",
       "        .enter()\n",
       "        .append('text')\n",
       "        .attr('id', d => `label-${d.category}`)\n",
       "        .attr('class', 'label')\n",
       "        .text(d => d.category)\n",
       "        .style('font-size', '11px')\n",
       "        .on('mouseover', highlight)\n",
       "        .on('mouseout', unhighlight);\n",
       "    \n",
       "    simulation.nodes(nodes).on('tick', tick);\n",
       "    simulation.force('link').links(filteredEdges);\n",
       "    \n",
       "    function tick() {\n",
       "        link\n",
       "          .attr('x1', d => d.source.x)\n",
       "          .attr('y1', d => d.source.y)\n",
       "          .attr('x2', d => d.target.x)\n",
       "          .attr('y2', d => d.target.y);\n",
       "\n",
       "        node.attr('cx', d => d.x).attr('cy', d => d.y);\n",
       "        label.attr('x', d => d.x).attr('y', d => d.y - 10);\n",
       "    }\n",
       "    \n",
       "    function highlight(n) {\n",
       "        d3.select(`#node-${n.category}`).attr('fill', 'red');\n",
       "        d3.select(`#label-${n.category}`).attr('fill', 'red');\n",
       "        \n",
       "        filteredEdges.forEach(d => {\n",
       "            let nid, lid, eid;\n",
       "            if (d.source.category === n.category) {\n",
       "                nid = `#node-${d.target.category}`;\n",
       "                lid = `#label-${d.target.category}`;\n",
       "                eid = `#${n.category}-${d.target.category}`;\n",
       "            } else if (d.target.category === n.category) {\n",
       "                nid = `#node-${d.source.category}`;\n",
       "                lid = `#label-${d.source.category}`;\n",
       "                eid = `#${d.source.category}-${n.category}`;\n",
       "            }\n",
       "            \n",
       "            if (nid) {\n",
       "                svg.select(nid).attr('fill', 'red');\n",
       "                svg.select(lid).attr('fill', 'red');\n",
       "                svg.select(eid).attr('stroke', 'red');\n",
       "            }\n",
       "        });\n",
       "    }\n",
       "    \n",
       "    function unhighlight() {\n",
       "        node.attr('fill', 'black');\n",
       "        label.attr('fill', 'black');\n",
       "        link.attr('stroke', '#aaa');\n",
       "    }\n",
       "});"
      ],
      "text/plain": [
       "<IPython.core.display.Javascript object>"
      ]
     },
     "metadata": {},
     "output_type": "display_data"
    }
   ],
   "source": [
    "%%javascript\n",
    "\n",
    "const forceWidth = 800;\n",
    "const forceHeight = 500;\n",
    "const center = {x: 0, y: forceHeight - 50};\n",
    "\n",
    "// The network is very densely connected. Increase this number to make it sparser.\n",
    "const MIN_AUTHOR_CROSSPOST = 80;\n",
    "\n",
    "require(['d3'], d3 => {\n",
    "    const { nodes, edges } = window.network;\n",
    "    \n",
    "    const filteredEdges = edges.filter(d => d.count > MIN_AUTHOR_CROSSPOST);\n",
    "    \n",
    "    // Remove chart container so that disappears when re-run this cell\n",
    "    $('#chart-container').remove();\n",
    "    \n",
    "    const el = element.append('<div id=\"chart-container\"></div>');\n",
    "    el.width(`${forceWidth}px`);\n",
    "    el.height(`${forceHeight}px`);\n",
    "    \n",
    "    const svg = d3.select('#chart-container')\n",
    "        .append('svg')\n",
    "        .attr('width', forceWidth)\n",
    "        .attr('height', forceHeight);\n",
    "    \n",
    "    const forceLink = d3.forceLink().id(d => d.category);\n",
    "    const forceCharge = d3.forceManyBody().strength(-400);\n",
    "    const forceCenter = d3.forceCenter(center.x, center.y);\n",
    "    \n",
    "    const simulation = d3.forceSimulation()\n",
    "        .force('link', forceLink)\n",
    "        .force('charge', forceCharge)\n",
    "        .force('center', forceCenter);\n",
    "    \n",
    "    const strokeWidth = d3.scaleLinear()\n",
    "        .domain(d3.extent(filteredEdges, d => d.count))\n",
    "        .range([1, 4]);\n",
    "    \n",
    "    const opacity = d3.scalePow()\n",
    "        .domain(strokeWidth.domain())\n",
    "        .range([0.1, 1]);\n",
    "    \n",
    "    const link = svg.append('g')\n",
    "        .attr('class', 'links')\n",
    "        .selectAll('.link')\n",
    "        .data(filteredEdges)\n",
    "        .enter()\n",
    "        .append('line')\n",
    "        .attr('id', d => `${d.source.category}-${d.target.category}`)\n",
    "        .attr('class', 'link')\n",
    "        .attr('stroke', '#aaa')\n",
    "        .attr('stroke-width', d => strokeWidth(d.count))\n",
    "        .attr('opacity', d => opacity(d.count));\n",
    "\n",
    "    const node = svg.append('g')\n",
    "        .attr('class', 'nodes')\n",
    "        .selectAll('.node')\n",
    "        .data(nodes)\n",
    "        .enter()\n",
    "        .append('circle')\n",
    "        .attr('id', d => `node-${d.category}`)\n",
    "        .attr('class', 'node')\n",
    "        .attr('r', 8)\n",
    "        .on('mouseover', highlight)\n",
    "        .on('mouseout', unhighlight);\n",
    "    \n",
    "    const label = svg.append('g')\n",
    "        .attr('class', 'labels')\n",
    "        .selectAll('.label')\n",
    "        .data(nodes)\n",
    "        .enter()\n",
    "        .append('text')\n",
    "        .attr('id', d => `label-${d.category}`)\n",
    "        .attr('class', 'label')\n",
    "        .text(d => d.category)\n",
    "        .style('font-size', '11px')\n",
    "        .on('mouseover', highlight)\n",
    "        .on('mouseout', unhighlight);\n",
    "    \n",
    "    simulation.nodes(nodes).on('tick', tick);\n",
    "    simulation.force('link').links(filteredEdges);\n",
    "    \n",
    "    function tick() {\n",
    "        link\n",
    "          .attr('x1', d => d.source.x)\n",
    "          .attr('y1', d => d.source.y)\n",
    "          .attr('x2', d => d.target.x)\n",
    "          .attr('y2', d => d.target.y);\n",
    "\n",
    "        node.attr('cx', d => d.x).attr('cy', d => d.y);\n",
    "        label.attr('x', d => d.x).attr('y', d => d.y - 10);\n",
    "    }\n",
    "    \n",
    "    function highlight(n) {\n",
    "        d3.select(`#node-${n.category}`).attr('fill', 'red');\n",
    "        d3.select(`#label-${n.category}`).attr('fill', 'red');\n",
    "        \n",
    "        filteredEdges.forEach(d => {\n",
    "            let nid, lid, eid;\n",
    "            if (d.source.category === n.category) {\n",
    "                nid = `#node-${d.target.category}`;\n",
    "                lid = `#label-${d.target.category}`;\n",
    "                eid = `#${n.category}-${d.target.category}`;\n",
    "            } else if (d.target.category === n.category) {\n",
    "                nid = `#node-${d.source.category}`;\n",
    "                lid = `#label-${d.source.category}`;\n",
    "                eid = `#${d.source.category}-${n.category}`;\n",
    "            }\n",
    "            \n",
    "            if (nid) {\n",
    "                svg.select(nid).attr('fill', 'red');\n",
    "                svg.select(lid).attr('fill', 'red');\n",
    "                svg.select(eid).attr('stroke', 'red');\n",
    "            }\n",
    "        });\n",
    "    }\n",
    "    \n",
    "    function unhighlight() {\n",
    "        node.attr('fill', 'black');\n",
    "        label.attr('fill', 'black');\n",
    "        link.attr('stroke', '#aaa');\n",
    "    }\n",
    "});"
   ]
  },
  {
   "cell_type": "markdown",
   "metadata": {
    "collapsed": true
   },
   "source": [
    "The "
   ]
  },
  {
   "cell_type": "code",
   "execution_count": null,
   "metadata": {
    "collapsed": true
   },
   "outputs": [],
   "source": []
  }
 ],
 "metadata": {
  "anaconda-cloud": {},
  "kernelspec": {
   "display_name": "Python [conda env:anaconda3]",
   "language": "python",
   "name": "conda-env-anaconda3-py"
  },
  "language_info": {
   "codemirror_mode": {
    "name": "ipython",
    "version": 3
   },
   "file_extension": ".py",
   "mimetype": "text/x-python",
   "name": "python",
   "nbconvert_exporter": "python",
   "pygments_lexer": "ipython3",
   "version": "3.5.2"
  }
 },
 "nbformat": 4,
 "nbformat_minor": 1
}
